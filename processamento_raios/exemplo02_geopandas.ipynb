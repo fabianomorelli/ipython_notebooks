{
 "cells": [
  {
   "cell_type": "code",
   "execution_count": 1,
   "id": "fb06517f",
   "metadata": {},
   "outputs": [],
   "source": [
    "import pandas as pd\n",
    "import geopandas as gpd\n",
    "import datetime as dt\n",
    "from shapely.geometry import Point"
   ]
  },
  {
   "cell_type": "markdown",
   "id": "4b8451a8",
   "metadata": {},
   "source": [
    "# exemplo de leitura do arquivo txt dentro da bilbioteca pandas\n",
    "\n",
    "link https://automating-gis-processes.github.io/site/notebooks/L3/spatial_index.html"
   ]
  },
  {
   "cell_type": "code",
   "execution_count": null,
   "id": "ab337551",
   "metadata": {},
   "outputs": [],
   "source": [
    "raios19 = pd.read_csv('./raios_2019_filtrado.txt', \n",
    "                      sep=';', \n",
    "                      #skiprows=1, \n",
    "                      usecols=[0,2,3,4], \n",
    "                      names=['data_r', 'latr', 'lonr', 'pc'], \n",
    "                      low_memory=False,\n",
    "#                       nrows=20000\n",
    "                    )"
   ]
  },
  {
   "cell_type": "code",
   "execution_count": null,
   "id": "37e73e77",
   "metadata": {
    "scrolled": true
   },
   "outputs": [],
   "source": [
    "raios19.info()"
   ]
  },
  {
   "cell_type": "code",
   "execution_count": null,
   "id": "8297d044",
   "metadata": {},
   "outputs": [],
   "source": [
    " raios19.tail(3) "
   ]
  },
  {
   "cell_type": "code",
   "execution_count": null,
   "id": "ad0af06c",
   "metadata": {},
   "outputs": [],
   "source": [
    "\n",
    "# Prepara um novo atributo do tipo geometry utilizando a funcao Point do shapely para depois criar um geopandas\n",
    "# esta variavel row eh soh pra ajudar a entender que ele vai pegar pra cada linha o atributo entre chaves\n",
    "\n",
    "geometry = raios19.apply(lambda row: Point(row['lonr'], row['latr']), axis=1)\n",
    "\n",
    "# cria uma variavel com referencia ao sistema de projecao cartografica\n",
    "# crs = {'init': 'epsg:4326'}\n",
    "crs=4326\n",
    "\n",
    "# cria um geodataframe com o dataframe anteriro\n",
    "# neste caso usando o mesmo nome mais pode ser outro qualquer\n",
    "raio19_geo = gpd.GeoDataFrame(raios19, crs=crs, geometry=geometry)\n",
    "\n",
    "# cria um indice espacial no geodataframe para agilizar os processamento espacial\n",
    " raio19_geo.sindex"
   ]
  },
  {
   "cell_type": "code",
   "execution_count": null,
   "id": "34d3127d",
   "metadata": {},
   "outputs": [],
   "source": [
    "raio19_geo.has_sindex"
   ]
  },
  {
   "cell_type": "code",
   "execution_count": null,
   "id": "1d0f99ff",
   "metadata": {},
   "outputs": [],
   "source": [
    "raio19_geo.info()"
   ]
  },
  {
   "cell_type": "markdown",
   "id": "be31c9f3",
   "metadata": {},
   "source": [
    "# Exporta o geodataframe para um shapefile"
   ]
  },
  {
   "cell_type": "code",
   "execution_count": null,
   "id": "a23a8c47",
   "metadata": {},
   "outputs": [],
   "source": [
    "# raio19_geo.to_file('raio_geo2.shp')\n",
    "# raio19_geo.to_file('raio_geo.gpkg', driver='GPKG')"
   ]
  },
  {
   "cell_type": "markdown",
   "id": "7be1cb94",
   "metadata": {},
   "source": [
    "# exemplo de leitura de um shapefile dentro da biblioteca geopandas"
   ]
  },
  {
   "cell_type": "code",
   "execution_count": 2,
   "id": "d9dd7f75",
   "metadata": {},
   "outputs": [],
   "source": [
    "# nome do arquivo shapefile\n",
    "shape_name = 'RJ.shp'"
   ]
  },
  {
   "cell_type": "code",
   "execution_count": 3,
   "id": "4b5098f7",
   "metadata": {},
   "outputs": [],
   "source": [
    "shp_rj = gpd.read_file(shape_name)"
   ]
  },
  {
   "cell_type": "code",
   "execution_count": 4,
   "id": "35d3eeaf",
   "metadata": {},
   "outputs": [],
   "source": [
    "# raio19_geo = gpd.read_file('raio_geo.shp', mask=shp_rj.geometry)\n",
    "raio19_geo = gpd.read_file('raios_com_fogo_rj.gpkg', driver='GPKG', mask=shp_rj.geometry)"
   ]
  },
  {
   "cell_type": "code",
   "execution_count": 5,
   "id": "554b5547",
   "metadata": {},
   "outputs": [
    {
     "data": {
      "text/plain": [
       "<geopandas.sindex.PyGEOSSTRTreeIndex at 0x1176ffdc0>"
      ]
     },
     "execution_count": 5,
     "metadata": {},
     "output_type": "execute_result"
    }
   ],
   "source": [
    "raio19_geo.sindex"
   ]
  },
  {
   "cell_type": "code",
   "execution_count": 6,
   "id": "9c1fe19c",
   "metadata": {},
   "outputs": [
    {
     "name": "stdout",
     "output_type": "stream",
     "text": [
      "<class 'geopandas.geodataframe.GeoDataFrame'>\n",
      "RangeIndex: 10 entries, 0 to 9\n",
      "Data columns (total 5 columns):\n",
      " #   Column    Non-Null Count  Dtype   \n",
      "---  ------    --------------  -----   \n",
      " 0   data_r    10 non-null     object  \n",
      " 1   latr      10 non-null     float64 \n",
      " 2   lonr      10 non-null     float64 \n",
      " 3   pc        10 non-null     int64   \n",
      " 4   geometry  10 non-null     geometry\n",
      "dtypes: float64(2), geometry(1), int64(1), object(1)\n",
      "memory usage: 528.0+ bytes\n"
     ]
    }
   ],
   "source": [
    "raio19_geo.info()"
   ]
  },
  {
   "cell_type": "markdown",
   "id": "bf072a5d",
   "metadata": {},
   "source": [
    "# Teste de leitura de um shape de pontos filtrando na leitura"
   ]
  },
  {
   "cell_type": "markdown",
   "id": "da3baf34",
   "metadata": {},
   "source": [
    "# plotagem de mapa\n",
    "Apresenta os dados na forma de um mapa"
   ]
  },
  {
   "cell_type": "code",
   "execution_count": null,
   "id": "efeffe99",
   "metadata": {},
   "outputs": [],
   "source": [
    "# mostrar os dois dados em uma mesma plotagem\n",
    "import matplotlib.pyplot as plt\n",
    "fig, ax = plt.subplots(figsize=(24,12))\n",
    "\n",
    "raio19_geo.plot(ax=ax)\n",
    "shp_rj.plot(ax=ax, facecolor='None')\n"
   ]
  },
  {
   "cell_type": "markdown",
   "id": "86ca1b2b",
   "metadata": {},
   "source": [
    "# Leitura dos focos"
   ]
  },
  {
   "cell_type": "code",
   "execution_count": 7,
   "id": "65b69263",
   "metadata": {},
   "outputs": [],
   "source": [
    "focos = pd.read_csv('Focos_npp_RJ_2019.csv')"
   ]
  },
  {
   "cell_type": "code",
   "execution_count": 8,
   "id": "1d79beda",
   "metadata": {},
   "outputs": [],
   "source": [
    "# filtra apenas os campos de interesse do dataframe\n",
    "focos = focos[['datahora', 'latitude', 'longitude']]"
   ]
  },
  {
   "cell_type": "code",
   "execution_count": 9,
   "id": "822aa1f2",
   "metadata": {},
   "outputs": [],
   "source": [
    "focos.rename(columns={'datahora': 'dataf', 'latitude':'latf', 'longitude':'lonf'}, inplace=True)"
   ]
  },
  {
   "cell_type": "code",
   "execution_count": 10,
   "id": "c2bfa26a",
   "metadata": {},
   "outputs": [
    {
     "data": {
      "text/html": [
       "<div>\n",
       "<style scoped>\n",
       "    .dataframe tbody tr th:only-of-type {\n",
       "        vertical-align: middle;\n",
       "    }\n",
       "\n",
       "    .dataframe tbody tr th {\n",
       "        vertical-align: top;\n",
       "    }\n",
       "\n",
       "    .dataframe thead th {\n",
       "        text-align: right;\n",
       "    }\n",
       "</style>\n",
       "<table border=\"1\" class=\"dataframe\">\n",
       "  <thead>\n",
       "    <tr style=\"text-align: right;\">\n",
       "      <th></th>\n",
       "      <th>dataf</th>\n",
       "      <th>latf</th>\n",
       "      <th>lonf</th>\n",
       "    </tr>\n",
       "  </thead>\n",
       "  <tbody>\n",
       "    <tr>\n",
       "      <th>0</th>\n",
       "      <td>2019/07/22 16:06:00</td>\n",
       "      <td>-21.6802</td>\n",
       "      <td>-41.3524</td>\n",
       "    </tr>\n",
       "    <tr>\n",
       "      <th>1</th>\n",
       "      <td>2019/01/10 16:24:00</td>\n",
       "      <td>-22.9766</td>\n",
       "      <td>-43.6045</td>\n",
       "    </tr>\n",
       "    <tr>\n",
       "      <th>2</th>\n",
       "      <td>2019/01/04 16:36:00</td>\n",
       "      <td>-22.9682</td>\n",
       "      <td>-43.6756</td>\n",
       "    </tr>\n",
       "    <tr>\n",
       "      <th>3</th>\n",
       "      <td>2019/01/04 16:36:00</td>\n",
       "      <td>-22.9680</td>\n",
       "      <td>-43.6751</td>\n",
       "    </tr>\n",
       "    <tr>\n",
       "      <th>4</th>\n",
       "      <td>2019/01/04 16:36:00</td>\n",
       "      <td>-22.8889</td>\n",
       "      <td>-43.5091</td>\n",
       "    </tr>\n",
       "  </tbody>\n",
       "</table>\n",
       "</div>"
      ],
      "text/plain": [
       "                 dataf     latf     lonf\n",
       "0  2019/07/22 16:06:00 -21.6802 -41.3524\n",
       "1  2019/01/10 16:24:00 -22.9766 -43.6045\n",
       "2  2019/01/04 16:36:00 -22.9682 -43.6756\n",
       "3  2019/01/04 16:36:00 -22.9680 -43.6751\n",
       "4  2019/01/04 16:36:00 -22.8889 -43.5091"
      ]
     },
     "execution_count": 10,
     "metadata": {},
     "output_type": "execute_result"
    }
   ],
   "source": [
    "focos.head()"
   ]
  },
  {
   "cell_type": "code",
   "execution_count": 11,
   "id": "1c8fa359",
   "metadata": {},
   "outputs": [],
   "source": [
    "# Cria um geodataframe dos focos\n",
    "focos_geo = gpd.GeoDataFrame(focos, \n",
    "                             geometry=gpd.points_from_xy(focos.lonf, focos.latf), \n",
    "                             crs='EPSG:4326')"
   ]
  },
  {
   "cell_type": "code",
   "execution_count": 12,
   "id": "adcc172f",
   "metadata": {},
   "outputs": [
    {
     "data": {
      "text/plain": [
       "<geopandas.sindex.PyGEOSSTRTreeIndex at 0x1626be5b0>"
      ]
     },
     "execution_count": 12,
     "metadata": {},
     "output_type": "execute_result"
    }
   ],
   "source": [
    "focos_geo.sindex"
   ]
  },
  {
   "cell_type": "code",
   "execution_count": 13,
   "id": "05481ab6",
   "metadata": {
    "scrolled": true
   },
   "outputs": [],
   "source": [
    "# cria um dados na forma de buffer redondo com raio de 500m representados em graus decimais (0.005)\n",
    "# buff_focos = focos_geo.geometry.buffer(distance=0.005)"
   ]
  },
  {
   "cell_type": "code",
   "execution_count": 14,
   "id": "310d08a8",
   "metadata": {},
   "outputs": [
    {
     "name": "stderr",
     "output_type": "stream",
     "text": [
      "/var/folders/m2/xln7ft1d69b42rc360vwsyhr0000gn/T/ipykernel_3598/2888589407.py:1: UserWarning: Geometry is in a geographic CRS. Results from 'buffer' are likely incorrect. Use 'GeoSeries.to_crs()' to re-project geometries to a projected CRS before this operation.\n",
      "\n",
      "  focos_geo['fbuffer_geom'] = focos_geo.buffer(distance=0.005)\n"
     ]
    }
   ],
   "source": [
    "focos_geo['fbuffer_geom'] = focos_geo.buffer(distance=0.005)"
   ]
  },
  {
   "cell_type": "code",
   "execution_count": 15,
   "id": "762c1825",
   "metadata": {},
   "outputs": [],
   "source": [
    "buff_focos = focos_geo[['dataf', 'fbuffer_geom']].set_geometry('fbuffer_geom')"
   ]
  },
  {
   "cell_type": "code",
   "execution_count": 16,
   "id": "92af61fa",
   "metadata": {},
   "outputs": [
    {
     "data": {
      "text/html": [
       "<div>\n",
       "<style scoped>\n",
       "    .dataframe tbody tr th:only-of-type {\n",
       "        vertical-align: middle;\n",
       "    }\n",
       "\n",
       "    .dataframe tbody tr th {\n",
       "        vertical-align: top;\n",
       "    }\n",
       "\n",
       "    .dataframe thead th {\n",
       "        text-align: right;\n",
       "    }\n",
       "</style>\n",
       "<table border=\"1\" class=\"dataframe\">\n",
       "  <thead>\n",
       "    <tr style=\"text-align: right;\">\n",
       "      <th></th>\n",
       "      <th>dataf</th>\n",
       "      <th>fbuffer_geom</th>\n",
       "    </tr>\n",
       "  </thead>\n",
       "  <tbody>\n",
       "    <tr>\n",
       "      <th>0</th>\n",
       "      <td>2019/07/22 16:06:00</td>\n",
       "      <td>POLYGON ((-41.34740 -21.68020, -41.34742 -21.6...</td>\n",
       "    </tr>\n",
       "    <tr>\n",
       "      <th>1</th>\n",
       "      <td>2019/01/10 16:24:00</td>\n",
       "      <td>POLYGON ((-43.59950 -22.97660, -43.59952 -22.9...</td>\n",
       "    </tr>\n",
       "    <tr>\n",
       "      <th>2</th>\n",
       "      <td>2019/01/04 16:36:00</td>\n",
       "      <td>POLYGON ((-43.67060 -22.96820, -43.67062 -22.9...</td>\n",
       "    </tr>\n",
       "    <tr>\n",
       "      <th>3</th>\n",
       "      <td>2019/01/04 16:36:00</td>\n",
       "      <td>POLYGON ((-43.67010 -22.96800, -43.67012 -22.9...</td>\n",
       "    </tr>\n",
       "    <tr>\n",
       "      <th>4</th>\n",
       "      <td>2019/01/04 16:36:00</td>\n",
       "      <td>POLYGON ((-43.50410 -22.88890, -43.50412 -22.8...</td>\n",
       "    </tr>\n",
       "  </tbody>\n",
       "</table>\n",
       "</div>"
      ],
      "text/plain": [
       "                 dataf                                       fbuffer_geom\n",
       "0  2019/07/22 16:06:00  POLYGON ((-41.34740 -21.68020, -41.34742 -21.6...\n",
       "1  2019/01/10 16:24:00  POLYGON ((-43.59950 -22.97660, -43.59952 -22.9...\n",
       "2  2019/01/04 16:36:00  POLYGON ((-43.67060 -22.96820, -43.67062 -22.9...\n",
       "3  2019/01/04 16:36:00  POLYGON ((-43.67010 -22.96800, -43.67012 -22.9...\n",
       "4  2019/01/04 16:36:00  POLYGON ((-43.50410 -22.88890, -43.50412 -22.8..."
      ]
     },
     "execution_count": 16,
     "metadata": {},
     "output_type": "execute_result"
    }
   ],
   "source": [
    "buff_focos.head()"
   ]
  },
  {
   "cell_type": "code",
   "execution_count": null,
   "id": "cbdff968",
   "metadata": {},
   "outputs": [],
   "source": [
    "# exporta os dados dos buffers para um arquivo shapefile\n",
    "# buff_focos.to_file('buffer_focos.shp')"
   ]
  },
  {
   "cell_type": "markdown",
   "id": "a47288a9",
   "metadata": {},
   "source": [
    "# Plotagem de mapa\n",
    "Apresenta os dados na forma de um mapa"
   ]
  },
  {
   "cell_type": "code",
   "execution_count": null,
   "id": "f425a738",
   "metadata": {},
   "outputs": [],
   "source": [
    "buff_focos.plot(figsize=(24,12));"
   ]
  },
  {
   "cell_type": "code",
   "execution_count": null,
   "id": "a4e309fc",
   "metadata": {},
   "outputs": [],
   "source": [
    "# mostrar os dois dados em uma mesma plotagem\n",
    "import matplotlib.pyplot as plt\n",
    "fig, ax = plt.subplots(figsize=(24,12))\n",
    "\n",
    "shp_rj.plot(ax=ax, facecolor='None')\n",
    "raio19_geo.plot(ax=ax)\n",
    "buff_focos.plot(ax=ax, facecolor='None');"
   ]
  },
  {
   "cell_type": "markdown",
   "id": "ec88e082",
   "metadata": {},
   "source": [
    "# Filtragem dos raios que intersectam os buffers de focos"
   ]
  },
  {
   "cell_type": "code",
   "execution_count": 17,
   "id": "701e2ce2",
   "metadata": {},
   "outputs": [],
   "source": [
    "raios_focos = gpd.sjoin(raio19_geo, buff_focos,lsuffix='raio', rsuffix='focos')"
   ]
  },
  {
   "cell_type": "markdown",
   "id": "91777247",
   "metadata": {},
   "source": [
    "# converte os campos de data para o tipo datetime"
   ]
  },
  {
   "cell_type": "code",
   "execution_count": 18,
   "id": "a4dd69b3",
   "metadata": {},
   "outputs": [],
   "source": [
    "raios_focos['data_raio_dt'] = pd.to_datetime(raios_focos.data_r)"
   ]
  },
  {
   "cell_type": "code",
   "execution_count": 19,
   "id": "044dd17a",
   "metadata": {},
   "outputs": [],
   "source": [
    "raios_focos['data_foco_dt'] = pd.to_datetime(raios_focos.dataf)"
   ]
  },
  {
   "cell_type": "code",
   "execution_count": 20,
   "id": "45824ff0",
   "metadata": {},
   "outputs": [
    {
     "data": {
      "text/html": [
       "<div>\n",
       "<style scoped>\n",
       "    .dataframe tbody tr th:only-of-type {\n",
       "        vertical-align: middle;\n",
       "    }\n",
       "\n",
       "    .dataframe tbody tr th {\n",
       "        vertical-align: top;\n",
       "    }\n",
       "\n",
       "    .dataframe thead th {\n",
       "        text-align: right;\n",
       "    }\n",
       "</style>\n",
       "<table border=\"1\" class=\"dataframe\">\n",
       "  <thead>\n",
       "    <tr style=\"text-align: right;\">\n",
       "      <th></th>\n",
       "      <th>data_r</th>\n",
       "      <th>latr</th>\n",
       "      <th>lonr</th>\n",
       "      <th>pc</th>\n",
       "      <th>geometry</th>\n",
       "      <th>index_focos</th>\n",
       "      <th>dataf</th>\n",
       "      <th>data_raio_dt</th>\n",
       "      <th>data_foco_dt</th>\n",
       "    </tr>\n",
       "  </thead>\n",
       "  <tbody>\n",
       "    <tr>\n",
       "      <th>0</th>\n",
       "      <td>2019-10-29 19:55:48</td>\n",
       "      <td>-22.5786</td>\n",
       "      <td>-44.6246</td>\n",
       "      <td>14</td>\n",
       "      <td>POINT (-44.62460 -22.57860)</td>\n",
       "      <td>4486</td>\n",
       "      <td>2019/10/30 16:30:00</td>\n",
       "      <td>2019-10-29 19:55:48</td>\n",
       "      <td>2019-10-30 16:30:00</td>\n",
       "    </tr>\n",
       "    <tr>\n",
       "      <th>0</th>\n",
       "      <td>2019-10-29 19:55:48</td>\n",
       "      <td>-22.5786</td>\n",
       "      <td>-44.6246</td>\n",
       "      <td>14</td>\n",
       "      <td>POINT (-44.62460 -22.57860)</td>\n",
       "      <td>4485</td>\n",
       "      <td>2019/10/30 16:30:00</td>\n",
       "      <td>2019-10-29 19:55:48</td>\n",
       "      <td>2019-10-30 16:30:00</td>\n",
       "    </tr>\n",
       "    <tr>\n",
       "      <th>1</th>\n",
       "      <td>2019-03-11 19:46:36</td>\n",
       "      <td>-22.4756</td>\n",
       "      <td>-42.7792</td>\n",
       "      <td>-14</td>\n",
       "      <td>POINT (-42.77920 -22.47560)</td>\n",
       "      <td>642</td>\n",
       "      <td>2019/03/13 17:00:00</td>\n",
       "      <td>2019-03-11 19:46:36</td>\n",
       "      <td>2019-03-13 17:00:00</td>\n",
       "    </tr>\n",
       "    <tr>\n",
       "      <th>2</th>\n",
       "      <td>2019-03-11 19:42:49</td>\n",
       "      <td>-22.4808</td>\n",
       "      <td>-42.7772</td>\n",
       "      <td>-13</td>\n",
       "      <td>POINT (-42.77720 -22.48080)</td>\n",
       "      <td>642</td>\n",
       "      <td>2019/03/13 17:00:00</td>\n",
       "      <td>2019-03-11 19:42:49</td>\n",
       "      <td>2019-03-13 17:00:00</td>\n",
       "    </tr>\n",
       "    <tr>\n",
       "      <th>3</th>\n",
       "      <td>2019-03-11 19:46:36</td>\n",
       "      <td>-22.4768</td>\n",
       "      <td>-42.7760</td>\n",
       "      <td>-43</td>\n",
       "      <td>POINT (-42.77600 -22.47680)</td>\n",
       "      <td>642</td>\n",
       "      <td>2019/03/13 17:00:00</td>\n",
       "      <td>2019-03-11 19:46:36</td>\n",
       "      <td>2019-03-13 17:00:00</td>\n",
       "    </tr>\n",
       "  </tbody>\n",
       "</table>\n",
       "</div>"
      ],
      "text/plain": [
       "                data_r     latr     lonr  pc                     geometry  \\\n",
       "0  2019-10-29 19:55:48 -22.5786 -44.6246  14  POINT (-44.62460 -22.57860)   \n",
       "0  2019-10-29 19:55:48 -22.5786 -44.6246  14  POINT (-44.62460 -22.57860)   \n",
       "1  2019-03-11 19:46:36 -22.4756 -42.7792 -14  POINT (-42.77920 -22.47560)   \n",
       "2  2019-03-11 19:42:49 -22.4808 -42.7772 -13  POINT (-42.77720 -22.48080)   \n",
       "3  2019-03-11 19:46:36 -22.4768 -42.7760 -43  POINT (-42.77600 -22.47680)   \n",
       "\n",
       "   index_focos                dataf        data_raio_dt        data_foco_dt  \n",
       "0         4486  2019/10/30 16:30:00 2019-10-29 19:55:48 2019-10-30 16:30:00  \n",
       "0         4485  2019/10/30 16:30:00 2019-10-29 19:55:48 2019-10-30 16:30:00  \n",
       "1          642  2019/03/13 17:00:00 2019-03-11 19:46:36 2019-03-13 17:00:00  \n",
       "2          642  2019/03/13 17:00:00 2019-03-11 19:42:49 2019-03-13 17:00:00  \n",
       "3          642  2019/03/13 17:00:00 2019-03-11 19:46:36 2019-03-13 17:00:00  "
      ]
     },
     "execution_count": 20,
     "metadata": {},
     "output_type": "execute_result"
    }
   ],
   "source": [
    "raios_focos.head()"
   ]
  },
  {
   "cell_type": "markdown",
   "id": "03398400",
   "metadata": {},
   "source": [
    "# Cria um intervalo de 48 horas a partir da data do foco"
   ]
  },
  {
   "cell_type": "code",
   "execution_count": 21,
   "id": "22daa03d",
   "metadata": {},
   "outputs": [],
   "source": [
    "raios_focos['intervalo'] = raios_focos.data_foco_dt - pd.to_timedelta(48, unit='hours')"
   ]
  },
  {
   "cell_type": "code",
   "execution_count": 22,
   "id": "244f8221",
   "metadata": {},
   "outputs": [],
   "source": [
    "# if(to_datetime( \"limite\" )<=to_datetime( \"DataR\" ) and to_datetime( \"DataR\" )<=to_datetime( \"DataF\" ),5,7)\n",
    "candidatos = raios_focos[(raios_focos.intervalo <= raios_focos.data_raio_dt) & \n",
    "            (raios_focos.data_raio_dt <= raios_focos.data_foco_dt)]"
   ]
  },
  {
   "cell_type": "code",
   "execution_count": 23,
   "id": "eb4a364b",
   "metadata": {},
   "outputs": [
    {
     "data": {
      "text/html": [
       "<div>\n",
       "<style scoped>\n",
       "    .dataframe tbody tr th:only-of-type {\n",
       "        vertical-align: middle;\n",
       "    }\n",
       "\n",
       "    .dataframe tbody tr th {\n",
       "        vertical-align: top;\n",
       "    }\n",
       "\n",
       "    .dataframe thead th {\n",
       "        text-align: right;\n",
       "    }\n",
       "</style>\n",
       "<table border=\"1\" class=\"dataframe\">\n",
       "  <thead>\n",
       "    <tr style=\"text-align: right;\">\n",
       "      <th></th>\n",
       "      <th>data_r</th>\n",
       "      <th>latr</th>\n",
       "      <th>lonr</th>\n",
       "      <th>pc</th>\n",
       "      <th>geometry</th>\n",
       "      <th>index_focos</th>\n",
       "      <th>dataf</th>\n",
       "      <th>data_raio_dt</th>\n",
       "      <th>data_foco_dt</th>\n",
       "      <th>intervalo</th>\n",
       "    </tr>\n",
       "  </thead>\n",
       "  <tbody>\n",
       "    <tr>\n",
       "      <th>0</th>\n",
       "      <td>2019-10-29 19:55:48</td>\n",
       "      <td>-22.5786</td>\n",
       "      <td>-44.6246</td>\n",
       "      <td>14</td>\n",
       "      <td>POINT (-44.62460 -22.57860)</td>\n",
       "      <td>4486</td>\n",
       "      <td>2019/10/30 16:30:00</td>\n",
       "      <td>2019-10-29 19:55:48</td>\n",
       "      <td>2019-10-30 16:30:00</td>\n",
       "      <td>2019-10-28 16:30:00</td>\n",
       "    </tr>\n",
       "    <tr>\n",
       "      <th>0</th>\n",
       "      <td>2019-10-29 19:55:48</td>\n",
       "      <td>-22.5786</td>\n",
       "      <td>-44.6246</td>\n",
       "      <td>14</td>\n",
       "      <td>POINT (-44.62460 -22.57860)</td>\n",
       "      <td>4485</td>\n",
       "      <td>2019/10/30 16:30:00</td>\n",
       "      <td>2019-10-29 19:55:48</td>\n",
       "      <td>2019-10-30 16:30:00</td>\n",
       "      <td>2019-10-28 16:30:00</td>\n",
       "    </tr>\n",
       "    <tr>\n",
       "      <th>1</th>\n",
       "      <td>2019-03-11 19:46:36</td>\n",
       "      <td>-22.4756</td>\n",
       "      <td>-42.7792</td>\n",
       "      <td>-14</td>\n",
       "      <td>POINT (-42.77920 -22.47560)</td>\n",
       "      <td>642</td>\n",
       "      <td>2019/03/13 17:00:00</td>\n",
       "      <td>2019-03-11 19:46:36</td>\n",
       "      <td>2019-03-13 17:00:00</td>\n",
       "      <td>2019-03-11 17:00:00</td>\n",
       "    </tr>\n",
       "    <tr>\n",
       "      <th>2</th>\n",
       "      <td>2019-03-11 19:42:49</td>\n",
       "      <td>-22.4808</td>\n",
       "      <td>-42.7772</td>\n",
       "      <td>-13</td>\n",
       "      <td>POINT (-42.77720 -22.48080)</td>\n",
       "      <td>642</td>\n",
       "      <td>2019/03/13 17:00:00</td>\n",
       "      <td>2019-03-11 19:42:49</td>\n",
       "      <td>2019-03-13 17:00:00</td>\n",
       "      <td>2019-03-11 17:00:00</td>\n",
       "    </tr>\n",
       "    <tr>\n",
       "      <th>3</th>\n",
       "      <td>2019-03-11 19:46:36</td>\n",
       "      <td>-22.4768</td>\n",
       "      <td>-42.7760</td>\n",
       "      <td>-43</td>\n",
       "      <td>POINT (-42.77600 -22.47680)</td>\n",
       "      <td>642</td>\n",
       "      <td>2019/03/13 17:00:00</td>\n",
       "      <td>2019-03-11 19:46:36</td>\n",
       "      <td>2019-03-13 17:00:00</td>\n",
       "      <td>2019-03-11 17:00:00</td>\n",
       "    </tr>\n",
       "    <tr>\n",
       "      <th>4</th>\n",
       "      <td>2019-03-11 19:46:36</td>\n",
       "      <td>-22.4801</td>\n",
       "      <td>-42.7745</td>\n",
       "      <td>-13</td>\n",
       "      <td>POINT (-42.77450 -22.48010)</td>\n",
       "      <td>642</td>\n",
       "      <td>2019/03/13 17:00:00</td>\n",
       "      <td>2019-03-11 19:46:36</td>\n",
       "      <td>2019-03-13 17:00:00</td>\n",
       "      <td>2019-03-11 17:00:00</td>\n",
       "    </tr>\n",
       "    <tr>\n",
       "      <th>5</th>\n",
       "      <td>2019-03-05 19:48:32</td>\n",
       "      <td>-22.8398</td>\n",
       "      <td>-44.0852</td>\n",
       "      <td>-10</td>\n",
       "      <td>POINT (-44.08520 -22.83980)</td>\n",
       "      <td>636</td>\n",
       "      <td>2019/03/07 17:12:00</td>\n",
       "      <td>2019-03-05 19:48:32</td>\n",
       "      <td>2019-03-07 17:12:00</td>\n",
       "      <td>2019-03-05 17:12:00</td>\n",
       "    </tr>\n",
       "    <tr>\n",
       "      <th>6</th>\n",
       "      <td>2019-01-15 21:41:18</td>\n",
       "      <td>-22.6260</td>\n",
       "      <td>-43.2218</td>\n",
       "      <td>-6</td>\n",
       "      <td>POINT (-43.22180 -22.62600)</td>\n",
       "      <td>4807</td>\n",
       "      <td>2019/01/17 15:54:00</td>\n",
       "      <td>2019-01-15 21:41:18</td>\n",
       "      <td>2019-01-17 15:54:00</td>\n",
       "      <td>2019-01-15 15:54:00</td>\n",
       "    </tr>\n",
       "    <tr>\n",
       "      <th>7</th>\n",
       "      <td>2019-01-15 21:41:18</td>\n",
       "      <td>-22.6260</td>\n",
       "      <td>-43.2218</td>\n",
       "      <td>-7</td>\n",
       "      <td>POINT (-43.22180 -22.62600)</td>\n",
       "      <td>4807</td>\n",
       "      <td>2019/01/17 15:54:00</td>\n",
       "      <td>2019-01-15 21:41:18</td>\n",
       "      <td>2019-01-17 15:54:00</td>\n",
       "      <td>2019-01-15 15:54:00</td>\n",
       "    </tr>\n",
       "    <tr>\n",
       "      <th>8</th>\n",
       "      <td>2019-01-16 21:11:21</td>\n",
       "      <td>-22.6223</td>\n",
       "      <td>-43.2279</td>\n",
       "      <td>-14</td>\n",
       "      <td>POINT (-43.22790 -22.62230)</td>\n",
       "      <td>4807</td>\n",
       "      <td>2019/01/17 15:54:00</td>\n",
       "      <td>2019-01-16 21:11:21</td>\n",
       "      <td>2019-01-17 15:54:00</td>\n",
       "      <td>2019-01-15 15:54:00</td>\n",
       "    </tr>\n",
       "    <tr>\n",
       "      <th>9</th>\n",
       "      <td>2019-10-27 18:39:19</td>\n",
       "      <td>-21.2213</td>\n",
       "      <td>-41.6821</td>\n",
       "      <td>-6</td>\n",
       "      <td>POINT (-41.68210 -21.22130)</td>\n",
       "      <td>4564</td>\n",
       "      <td>2019/10/29 16:48:00</td>\n",
       "      <td>2019-10-27 18:39:19</td>\n",
       "      <td>2019-10-29 16:48:00</td>\n",
       "      <td>2019-10-27 16:48:00</td>\n",
       "    </tr>\n",
       "    <tr>\n",
       "      <th>9</th>\n",
       "      <td>2019-10-27 18:39:19</td>\n",
       "      <td>-21.2213</td>\n",
       "      <td>-41.6821</td>\n",
       "      <td>-6</td>\n",
       "      <td>POINT (-41.68210 -21.22130)</td>\n",
       "      <td>4547</td>\n",
       "      <td>2019/10/29 16:48:00</td>\n",
       "      <td>2019-10-27 18:39:19</td>\n",
       "      <td>2019-10-29 16:48:00</td>\n",
       "      <td>2019-10-27 16:48:00</td>\n",
       "    </tr>\n",
       "  </tbody>\n",
       "</table>\n",
       "</div>"
      ],
      "text/plain": [
       "                data_r     latr     lonr  pc                     geometry  \\\n",
       "0  2019-10-29 19:55:48 -22.5786 -44.6246  14  POINT (-44.62460 -22.57860)   \n",
       "0  2019-10-29 19:55:48 -22.5786 -44.6246  14  POINT (-44.62460 -22.57860)   \n",
       "1  2019-03-11 19:46:36 -22.4756 -42.7792 -14  POINT (-42.77920 -22.47560)   \n",
       "2  2019-03-11 19:42:49 -22.4808 -42.7772 -13  POINT (-42.77720 -22.48080)   \n",
       "3  2019-03-11 19:46:36 -22.4768 -42.7760 -43  POINT (-42.77600 -22.47680)   \n",
       "4  2019-03-11 19:46:36 -22.4801 -42.7745 -13  POINT (-42.77450 -22.48010)   \n",
       "5  2019-03-05 19:48:32 -22.8398 -44.0852 -10  POINT (-44.08520 -22.83980)   \n",
       "6  2019-01-15 21:41:18 -22.6260 -43.2218  -6  POINT (-43.22180 -22.62600)   \n",
       "7  2019-01-15 21:41:18 -22.6260 -43.2218  -7  POINT (-43.22180 -22.62600)   \n",
       "8  2019-01-16 21:11:21 -22.6223 -43.2279 -14  POINT (-43.22790 -22.62230)   \n",
       "9  2019-10-27 18:39:19 -21.2213 -41.6821  -6  POINT (-41.68210 -21.22130)   \n",
       "9  2019-10-27 18:39:19 -21.2213 -41.6821  -6  POINT (-41.68210 -21.22130)   \n",
       "\n",
       "   index_focos                dataf        data_raio_dt        data_foco_dt  \\\n",
       "0         4486  2019/10/30 16:30:00 2019-10-29 19:55:48 2019-10-30 16:30:00   \n",
       "0         4485  2019/10/30 16:30:00 2019-10-29 19:55:48 2019-10-30 16:30:00   \n",
       "1          642  2019/03/13 17:00:00 2019-03-11 19:46:36 2019-03-13 17:00:00   \n",
       "2          642  2019/03/13 17:00:00 2019-03-11 19:42:49 2019-03-13 17:00:00   \n",
       "3          642  2019/03/13 17:00:00 2019-03-11 19:46:36 2019-03-13 17:00:00   \n",
       "4          642  2019/03/13 17:00:00 2019-03-11 19:46:36 2019-03-13 17:00:00   \n",
       "5          636  2019/03/07 17:12:00 2019-03-05 19:48:32 2019-03-07 17:12:00   \n",
       "6         4807  2019/01/17 15:54:00 2019-01-15 21:41:18 2019-01-17 15:54:00   \n",
       "7         4807  2019/01/17 15:54:00 2019-01-15 21:41:18 2019-01-17 15:54:00   \n",
       "8         4807  2019/01/17 15:54:00 2019-01-16 21:11:21 2019-01-17 15:54:00   \n",
       "9         4564  2019/10/29 16:48:00 2019-10-27 18:39:19 2019-10-29 16:48:00   \n",
       "9         4547  2019/10/29 16:48:00 2019-10-27 18:39:19 2019-10-29 16:48:00   \n",
       "\n",
       "            intervalo  \n",
       "0 2019-10-28 16:30:00  \n",
       "0 2019-10-28 16:30:00  \n",
       "1 2019-03-11 17:00:00  \n",
       "2 2019-03-11 17:00:00  \n",
       "3 2019-03-11 17:00:00  \n",
       "4 2019-03-11 17:00:00  \n",
       "5 2019-03-05 17:12:00  \n",
       "6 2019-01-15 15:54:00  \n",
       "7 2019-01-15 15:54:00  \n",
       "8 2019-01-15 15:54:00  \n",
       "9 2019-10-27 16:48:00  \n",
       "9 2019-10-27 16:48:00  "
      ]
     },
     "execution_count": 23,
     "metadata": {},
     "output_type": "execute_result"
    }
   ],
   "source": [
    "candidatos"
   ]
  },
  {
   "cell_type": "code",
   "execution_count": 24,
   "id": "73193f77",
   "metadata": {},
   "outputs": [
    {
     "data": {
      "text/plain": [
       "Int64Index([0, 1, 2, 3, 4, 5, 6, 7, 8, 9], dtype='int64')"
      ]
     },
     "execution_count": 24,
     "metadata": {},
     "output_type": "execute_result"
    }
   ],
   "source": [
    "# raios_unicos = \n",
    "candidatos.index.unique()"
   ]
  },
  {
   "cell_type": "code",
   "execution_count": null,
   "id": "fa269901",
   "metadata": {},
   "outputs": [],
   "source": [
    "# exporta a listagem dos raios que intersectaram com focos\n",
    "# não vai exportar raios repetidos\n",
    "\n",
    "# raio19_geo.loc[candidatos.index.unique()].to_file('./raios_com_fogo_rj.gpkg', driver='GPKG')"
   ]
  },
  {
   "cell_type": "markdown",
   "id": "109a8fb2",
   "metadata": {},
   "source": [
    "# Verificação do raio mais próxio com a distância do centro do buffer do foco "
   ]
  },
  {
   "cell_type": "code",
   "execution_count": 25,
   "id": "69809832",
   "metadata": {},
   "outputs": [
    {
     "data": {
      "text/plain": [
       "642     4\n",
       "4807    3\n",
       "4486    1\n",
       "4485    1\n",
       "636     1\n",
       "4564    1\n",
       "4547    1\n",
       "Name: index_focos, dtype: int64"
      ]
     },
     "execution_count": 25,
     "metadata": {},
     "output_type": "execute_result"
    }
   ],
   "source": [
    "# Quantos raios estão contidos em cada buffer?\n",
    "candidatos.index_focos.value_counts()"
   ]
  },
  {
   "cell_type": "code",
   "execution_count": 26,
   "id": "1443c9b9",
   "metadata": {},
   "outputs": [],
   "source": [
    "def resumo(df):\n",
    "    rcount = pd.DataFrame(df.index_focos.value_counts())\n",
    "    rcount.reset_index(inplace=True)\n",
    "    rcount.rename(columns={\"index\": \"idf\", \"index_focos\": \"cnt\"}, inplace=True)\n",
    "    return(rcount)"
   ]
  },
  {
   "cell_type": "code",
   "execution_count": 58,
   "id": "8816659a",
   "metadata": {},
   "outputs": [],
   "source": [
    "def getdistance(row):\n",
    "    a = focos_geo.loc[focos_geo.index == 0].to_crs(epsg=32722)\n",
    "    r = candidatos.loc[candidatos.index == 32735].to_crs(epsg=32722)\n",
    "    d = r.distance(a,align=False)\n",
    "    print(d)"
   ]
  },
  {
   "cell_type": "code",
   "execution_count": 69,
   "id": "58f24e51",
   "metadata": {},
   "outputs": [
    {
     "name": "stderr",
     "output_type": "stream",
     "text": [
      "/Users/fabianomorelli/opt/anaconda3/envs/geopy/lib/python3.9/site-packages/geopandas/base.py:31: UserWarning: The indices of the two GeoSeries are different.\n",
      "  warn(\"The indices of the two GeoSeries are different.\")\n"
     ]
    }
   ],
   "source": [
    "a = focos_geo.loc[focos_geo.index == 642].to_crs(epsg=32722)\n",
    "r = candidatos.loc[candidatos.index == 0].to_crs(epsg=32722)\n",
    "d = r.distance(a,align=False)"
   ]
  },
  {
   "cell_type": "code",
   "execution_count": 32,
   "id": "b957a895",
   "metadata": {},
   "outputs": [
    {
     "data": {
      "text/plain": [
       "geopandas.geodataframe.GeoDataFrame"
      ]
     },
     "execution_count": 32,
     "metadata": {},
     "output_type": "execute_result"
    }
   ],
   "source": [
    "type(focos_geo[focos_geo.index == 642])\n",
    "# type(focos_geo.loc[642])"
   ]
  },
  {
   "cell_type": "code",
   "execution_count": 86,
   "id": "d38d611e",
   "metadata": {},
   "outputs": [
    {
     "data": {
      "text/plain": [
       "data_r                               2019-10-29 19:55:48\n",
       "latr                                            -22.5786\n",
       "lonr                                            -44.6246\n",
       "pc                                                    14\n",
       "geometry        POINT (1156332.7201979 7489067.89068629)\n",
       "index_focos                                         4486\n",
       "dataf                                2019/10/30 16:30:00\n",
       "data_raio_dt                         2019-10-29 19:55:48\n",
       "data_foco_dt                         2019-10-30 16:30:00\n",
       "intervalo                            2019-10-28 16:30:00\n",
       "Name: 0, dtype: object"
      ]
     },
     "execution_count": 86,
     "metadata": {},
     "output_type": "execute_result"
    }
   ],
   "source": [
    "r.iloc[0]"
   ]
  },
  {
   "cell_type": "code",
   "execution_count": 83,
   "id": "773bea12",
   "metadata": {},
   "outputs": [
    {
     "name": "stderr",
     "output_type": "stream",
     "text": [
      "/var/folders/m2/xln7ft1d69b42rc360vwsyhr0000gn/T/ipykernel_14669/4180017802.py:1: FutureWarning: CRS mismatch between CRS of the passed geometries and 'crs'. Use 'GeoDataFrame.set_crs(crs, allow_override=True)' to overwrite CRS or 'GeoDataFrame.to_crs(crs)' to reproject geometries. CRS mismatch will raise an error in the future versions of GeoPandas.\n",
      "  b = gpd.GeoDataFrame(r.iloc[0], geometry=r['geometry'], crs=4326)\n"
     ]
    },
    {
     "ename": "ValueError",
     "evalue": "cannot reindex from a duplicate axis",
     "output_type": "error",
     "traceback": [
      "\u001b[0;31m---------------------------------------------------------------------------\u001b[0m",
      "\u001b[0;31mValueError\u001b[0m                                Traceback (most recent call last)",
      "\u001b[0;32m/var/folders/m2/xln7ft1d69b42rc360vwsyhr0000gn/T/ipykernel_14669/4180017802.py\u001b[0m in \u001b[0;36m<module>\u001b[0;34m\u001b[0m\n\u001b[0;32m----> 1\u001b[0;31m \u001b[0mb\u001b[0m \u001b[0;34m=\u001b[0m \u001b[0mgpd\u001b[0m\u001b[0;34m.\u001b[0m\u001b[0mGeoDataFrame\u001b[0m\u001b[0;34m(\u001b[0m\u001b[0mr\u001b[0m\u001b[0;34m.\u001b[0m\u001b[0miloc\u001b[0m\u001b[0;34m[\u001b[0m\u001b[0;36m0\u001b[0m\u001b[0;34m]\u001b[0m\u001b[0;34m,\u001b[0m \u001b[0mgeometry\u001b[0m\u001b[0;34m=\u001b[0m\u001b[0mr\u001b[0m\u001b[0;34m[\u001b[0m\u001b[0;34m'geometry'\u001b[0m\u001b[0;34m]\u001b[0m\u001b[0;34m,\u001b[0m \u001b[0mcrs\u001b[0m\u001b[0;34m=\u001b[0m\u001b[0;36m4326\u001b[0m\u001b[0;34m)\u001b[0m\u001b[0;34m\u001b[0m\u001b[0;34m\u001b[0m\u001b[0m\n\u001b[0m",
      "\u001b[0;32m~/opt/anaconda3/envs/geopy/lib/python3.9/site-packages/geopandas/geodataframe.py\u001b[0m in \u001b[0;36m__init__\u001b[0;34m(self, data, geometry, crs, *args, **kwargs)\u001b[0m\n\u001b[1;32m    182\u001b[0m                 \u001b[0m_crs_mismatch_warning\u001b[0m\u001b[0;34m(\u001b[0m\u001b[0;34m)\u001b[0m\u001b[0;34m\u001b[0m\u001b[0;34m\u001b[0m\u001b[0m\n\u001b[1;32m    183\u001b[0m                 \u001b[0;31m# TODO: raise error in 0.9 or 0.10.\u001b[0m\u001b[0;34m\u001b[0m\u001b[0;34m\u001b[0m\u001b[0m\n\u001b[0;32m--> 184\u001b[0;31m             \u001b[0mself\u001b[0m\u001b[0;34m.\u001b[0m\u001b[0mset_geometry\u001b[0m\u001b[0;34m(\u001b[0m\u001b[0mgeometry\u001b[0m\u001b[0;34m,\u001b[0m \u001b[0minplace\u001b[0m\u001b[0;34m=\u001b[0m\u001b[0;32mTrue\u001b[0m\u001b[0;34m)\u001b[0m\u001b[0;34m\u001b[0m\u001b[0;34m\u001b[0m\u001b[0m\n\u001b[0m\u001b[1;32m    185\u001b[0m \u001b[0;34m\u001b[0m\u001b[0m\n\u001b[1;32m    186\u001b[0m         \u001b[0;32mif\u001b[0m \u001b[0mgeometry\u001b[0m \u001b[0;32mis\u001b[0m \u001b[0;32mNone\u001b[0m \u001b[0;32mand\u001b[0m \u001b[0mcrs\u001b[0m\u001b[0;34m:\u001b[0m\u001b[0;34m\u001b[0m\u001b[0;34m\u001b[0m\u001b[0m\n",
      "\u001b[0;32m~/opt/anaconda3/envs/geopy/lib/python3.9/site-packages/geopandas/geodataframe.py\u001b[0m in \u001b[0;36mset_geometry\u001b[0;34m(self, col, drop, inplace, crs)\u001b[0m\n\u001b[1;32m    318\u001b[0m         \u001b[0mlevel\u001b[0m \u001b[0;34m=\u001b[0m \u001b[0m_ensure_geometry\u001b[0m\u001b[0;34m(\u001b[0m\u001b[0mlevel\u001b[0m\u001b[0;34m,\u001b[0m \u001b[0mcrs\u001b[0m\u001b[0;34m=\u001b[0m\u001b[0mcrs\u001b[0m\u001b[0;34m)\u001b[0m\u001b[0;34m\u001b[0m\u001b[0;34m\u001b[0m\u001b[0m\n\u001b[1;32m    319\u001b[0m         \u001b[0mindex\u001b[0m \u001b[0;34m=\u001b[0m \u001b[0mframe\u001b[0m\u001b[0;34m.\u001b[0m\u001b[0mindex\u001b[0m\u001b[0;34m\u001b[0m\u001b[0;34m\u001b[0m\u001b[0m\n\u001b[0;32m--> 320\u001b[0;31m         \u001b[0mframe\u001b[0m\u001b[0;34m[\u001b[0m\u001b[0mgeo_column_name\u001b[0m\u001b[0;34m]\u001b[0m \u001b[0;34m=\u001b[0m \u001b[0mlevel\u001b[0m\u001b[0;34m\u001b[0m\u001b[0;34m\u001b[0m\u001b[0m\n\u001b[0m\u001b[1;32m    321\u001b[0m         \u001b[0;32mif\u001b[0m \u001b[0mframe\u001b[0m\u001b[0;34m.\u001b[0m\u001b[0mindex\u001b[0m \u001b[0;32mis\u001b[0m \u001b[0;32mnot\u001b[0m \u001b[0mindex\u001b[0m \u001b[0;32mand\u001b[0m \u001b[0mlen\u001b[0m\u001b[0;34m(\u001b[0m\u001b[0mframe\u001b[0m\u001b[0;34m.\u001b[0m\u001b[0mindex\u001b[0m\u001b[0;34m)\u001b[0m \u001b[0;34m==\u001b[0m \u001b[0mlen\u001b[0m\u001b[0;34m(\u001b[0m\u001b[0mindex\u001b[0m\u001b[0;34m)\u001b[0m\u001b[0;34m:\u001b[0m\u001b[0;34m\u001b[0m\u001b[0;34m\u001b[0m\u001b[0m\n\u001b[1;32m    322\u001b[0m             \u001b[0;31m# With pandas < 1.0 and an empty frame (no rows), the index gets reset\u001b[0m\u001b[0;34m\u001b[0m\u001b[0;34m\u001b[0m\u001b[0m\n",
      "\u001b[0;32m~/opt/anaconda3/envs/geopy/lib/python3.9/site-packages/geopandas/geodataframe.py\u001b[0m in \u001b[0;36m__setitem__\u001b[0;34m(self, key, value)\u001b[0m\n\u001b[1;32m   1349\u001b[0m             \u001b[0;32mexcept\u001b[0m \u001b[0mTypeError\u001b[0m\u001b[0;34m:\u001b[0m\u001b[0;34m\u001b[0m\u001b[0;34m\u001b[0m\u001b[0m\n\u001b[1;32m   1350\u001b[0m                 \u001b[0mwarnings\u001b[0m\u001b[0;34m.\u001b[0m\u001b[0mwarn\u001b[0m\u001b[0;34m(\u001b[0m\u001b[0;34m\"Geometry column does not contain geometry.\"\u001b[0m\u001b[0;34m)\u001b[0m\u001b[0;34m\u001b[0m\u001b[0;34m\u001b[0m\u001b[0m\n\u001b[0;32m-> 1351\u001b[0;31m         \u001b[0msuper\u001b[0m\u001b[0;34m(\u001b[0m\u001b[0;34m)\u001b[0m\u001b[0;34m.\u001b[0m\u001b[0m__setitem__\u001b[0m\u001b[0;34m(\u001b[0m\u001b[0mkey\u001b[0m\u001b[0;34m,\u001b[0m \u001b[0mvalue\u001b[0m\u001b[0;34m)\u001b[0m\u001b[0;34m\u001b[0m\u001b[0;34m\u001b[0m\u001b[0m\n\u001b[0m\u001b[1;32m   1352\u001b[0m \u001b[0;34m\u001b[0m\u001b[0m\n\u001b[1;32m   1353\u001b[0m     \u001b[0;31m#\u001b[0m\u001b[0;34m\u001b[0m\u001b[0;34m\u001b[0m\u001b[0m\n",
      "\u001b[0;32m~/opt/anaconda3/envs/geopy/lib/python3.9/site-packages/pandas/core/frame.py\u001b[0m in \u001b[0;36m__setitem__\u001b[0;34m(self, key, value)\u001b[0m\n\u001b[1;32m   3610\u001b[0m         \u001b[0;32melse\u001b[0m\u001b[0;34m:\u001b[0m\u001b[0;34m\u001b[0m\u001b[0;34m\u001b[0m\u001b[0m\n\u001b[1;32m   3611\u001b[0m             \u001b[0;31m# set column\u001b[0m\u001b[0;34m\u001b[0m\u001b[0;34m\u001b[0m\u001b[0m\n\u001b[0;32m-> 3612\u001b[0;31m             \u001b[0mself\u001b[0m\u001b[0;34m.\u001b[0m\u001b[0m_set_item\u001b[0m\u001b[0;34m(\u001b[0m\u001b[0mkey\u001b[0m\u001b[0;34m,\u001b[0m \u001b[0mvalue\u001b[0m\u001b[0;34m)\u001b[0m\u001b[0;34m\u001b[0m\u001b[0;34m\u001b[0m\u001b[0m\n\u001b[0m\u001b[1;32m   3613\u001b[0m \u001b[0;34m\u001b[0m\u001b[0m\n\u001b[1;32m   3614\u001b[0m     \u001b[0;32mdef\u001b[0m \u001b[0m_setitem_slice\u001b[0m\u001b[0;34m(\u001b[0m\u001b[0mself\u001b[0m\u001b[0;34m,\u001b[0m \u001b[0mkey\u001b[0m\u001b[0;34m:\u001b[0m \u001b[0mslice\u001b[0m\u001b[0;34m,\u001b[0m \u001b[0mvalue\u001b[0m\u001b[0;34m)\u001b[0m\u001b[0;34m:\u001b[0m\u001b[0;34m\u001b[0m\u001b[0;34m\u001b[0m\u001b[0m\n",
      "\u001b[0;32m~/opt/anaconda3/envs/geopy/lib/python3.9/site-packages/pandas/core/frame.py\u001b[0m in \u001b[0;36m_set_item\u001b[0;34m(self, key, value)\u001b[0m\n\u001b[1;32m   3782\u001b[0m         \u001b[0mensure\u001b[0m \u001b[0mhomogeneity\u001b[0m\u001b[0;34m.\u001b[0m\u001b[0;34m\u001b[0m\u001b[0;34m\u001b[0m\u001b[0m\n\u001b[1;32m   3783\u001b[0m         \"\"\"\n\u001b[0;32m-> 3784\u001b[0;31m         \u001b[0mvalue\u001b[0m \u001b[0;34m=\u001b[0m \u001b[0mself\u001b[0m\u001b[0;34m.\u001b[0m\u001b[0m_sanitize_column\u001b[0m\u001b[0;34m(\u001b[0m\u001b[0mvalue\u001b[0m\u001b[0;34m)\u001b[0m\u001b[0;34m\u001b[0m\u001b[0;34m\u001b[0m\u001b[0m\n\u001b[0m\u001b[1;32m   3785\u001b[0m \u001b[0;34m\u001b[0m\u001b[0m\n\u001b[1;32m   3786\u001b[0m         if (\n",
      "\u001b[0;32m~/opt/anaconda3/envs/geopy/lib/python3.9/site-packages/pandas/core/frame.py\u001b[0m in \u001b[0;36m_sanitize_column\u001b[0;34m(self, value)\u001b[0m\n\u001b[1;32m   4504\u001b[0m         \u001b[0;31m# We should never get here with DataFrame value\u001b[0m\u001b[0;34m\u001b[0m\u001b[0;34m\u001b[0m\u001b[0m\n\u001b[1;32m   4505\u001b[0m         \u001b[0;32mif\u001b[0m \u001b[0misinstance\u001b[0m\u001b[0;34m(\u001b[0m\u001b[0mvalue\u001b[0m\u001b[0;34m,\u001b[0m \u001b[0mSeries\u001b[0m\u001b[0;34m)\u001b[0m\u001b[0;34m:\u001b[0m\u001b[0;34m\u001b[0m\u001b[0;34m\u001b[0m\u001b[0m\n\u001b[0;32m-> 4506\u001b[0;31m             \u001b[0;32mreturn\u001b[0m \u001b[0m_reindex_for_setitem\u001b[0m\u001b[0;34m(\u001b[0m\u001b[0mvalue\u001b[0m\u001b[0;34m,\u001b[0m \u001b[0mself\u001b[0m\u001b[0;34m.\u001b[0m\u001b[0mindex\u001b[0m\u001b[0;34m)\u001b[0m\u001b[0;34m\u001b[0m\u001b[0;34m\u001b[0m\u001b[0m\n\u001b[0m\u001b[1;32m   4507\u001b[0m \u001b[0;34m\u001b[0m\u001b[0m\n\u001b[1;32m   4508\u001b[0m         \u001b[0;32mif\u001b[0m \u001b[0mis_list_like\u001b[0m\u001b[0;34m(\u001b[0m\u001b[0mvalue\u001b[0m\u001b[0;34m)\u001b[0m\u001b[0;34m:\u001b[0m\u001b[0;34m\u001b[0m\u001b[0;34m\u001b[0m\u001b[0m\n",
      "\u001b[0;32m~/opt/anaconda3/envs/geopy/lib/python3.9/site-packages/pandas/core/frame.py\u001b[0m in \u001b[0;36m_reindex_for_setitem\u001b[0;34m(value, index)\u001b[0m\n\u001b[1;32m  10779\u001b[0m         \u001b[0;32mif\u001b[0m \u001b[0;32mnot\u001b[0m \u001b[0mvalue\u001b[0m\u001b[0;34m.\u001b[0m\u001b[0mindex\u001b[0m\u001b[0;34m.\u001b[0m\u001b[0mis_unique\u001b[0m\u001b[0;34m:\u001b[0m\u001b[0;34m\u001b[0m\u001b[0;34m\u001b[0m\u001b[0m\n\u001b[1;32m  10780\u001b[0m             \u001b[0;31m# duplicate axis\u001b[0m\u001b[0;34m\u001b[0m\u001b[0;34m\u001b[0m\u001b[0m\n\u001b[0;32m> 10781\u001b[0;31m             \u001b[0;32mraise\u001b[0m \u001b[0merr\u001b[0m\u001b[0;34m\u001b[0m\u001b[0;34m\u001b[0m\u001b[0m\n\u001b[0m\u001b[1;32m  10782\u001b[0m \u001b[0;34m\u001b[0m\u001b[0m\n\u001b[1;32m  10783\u001b[0m         raise TypeError(\n",
      "\u001b[0;32m~/opt/anaconda3/envs/geopy/lib/python3.9/site-packages/pandas/core/frame.py\u001b[0m in \u001b[0;36m_reindex_for_setitem\u001b[0;34m(value, index)\u001b[0m\n\u001b[1;32m  10774\u001b[0m     \u001b[0;31m# GH#4107\u001b[0m\u001b[0;34m\u001b[0m\u001b[0;34m\u001b[0m\u001b[0m\n\u001b[1;32m  10775\u001b[0m     \u001b[0;32mtry\u001b[0m\u001b[0;34m:\u001b[0m\u001b[0;34m\u001b[0m\u001b[0;34m\u001b[0m\u001b[0m\n\u001b[0;32m> 10776\u001b[0;31m         \u001b[0mreindexed_value\u001b[0m \u001b[0;34m=\u001b[0m \u001b[0mvalue\u001b[0m\u001b[0;34m.\u001b[0m\u001b[0mreindex\u001b[0m\u001b[0;34m(\u001b[0m\u001b[0mindex\u001b[0m\u001b[0;34m)\u001b[0m\u001b[0;34m.\u001b[0m\u001b[0m_values\u001b[0m\u001b[0;34m\u001b[0m\u001b[0;34m\u001b[0m\u001b[0m\n\u001b[0m\u001b[1;32m  10777\u001b[0m     \u001b[0;32mexcept\u001b[0m \u001b[0mValueError\u001b[0m \u001b[0;32mas\u001b[0m \u001b[0merr\u001b[0m\u001b[0;34m:\u001b[0m\u001b[0;34m\u001b[0m\u001b[0;34m\u001b[0m\u001b[0m\n\u001b[1;32m  10778\u001b[0m         \u001b[0;31m# raised in MultiIndex.from_tuples, see test_insert_error_msmgs\u001b[0m\u001b[0;34m\u001b[0m\u001b[0;34m\u001b[0m\u001b[0m\n",
      "\u001b[0;32m~/opt/anaconda3/envs/geopy/lib/python3.9/site-packages/pandas/core/series.py\u001b[0m in \u001b[0;36mreindex\u001b[0;34m(self, index, **kwargs)\u001b[0m\n\u001b[1;32m   4578\u001b[0m     )\n\u001b[1;32m   4579\u001b[0m     \u001b[0;32mdef\u001b[0m \u001b[0mreindex\u001b[0m\u001b[0;34m(\u001b[0m\u001b[0mself\u001b[0m\u001b[0;34m,\u001b[0m \u001b[0mindex\u001b[0m\u001b[0;34m=\u001b[0m\u001b[0;32mNone\u001b[0m\u001b[0;34m,\u001b[0m \u001b[0;34m**\u001b[0m\u001b[0mkwargs\u001b[0m\u001b[0;34m)\u001b[0m\u001b[0;34m:\u001b[0m\u001b[0;34m\u001b[0m\u001b[0;34m\u001b[0m\u001b[0m\n\u001b[0;32m-> 4580\u001b[0;31m         \u001b[0;32mreturn\u001b[0m \u001b[0msuper\u001b[0m\u001b[0;34m(\u001b[0m\u001b[0;34m)\u001b[0m\u001b[0;34m.\u001b[0m\u001b[0mreindex\u001b[0m\u001b[0;34m(\u001b[0m\u001b[0mindex\u001b[0m\u001b[0;34m=\u001b[0m\u001b[0mindex\u001b[0m\u001b[0;34m,\u001b[0m \u001b[0;34m**\u001b[0m\u001b[0mkwargs\u001b[0m\u001b[0;34m)\u001b[0m\u001b[0;34m\u001b[0m\u001b[0;34m\u001b[0m\u001b[0m\n\u001b[0m\u001b[1;32m   4581\u001b[0m \u001b[0;34m\u001b[0m\u001b[0m\n\u001b[1;32m   4582\u001b[0m     \u001b[0;34m@\u001b[0m\u001b[0mdeprecate_nonkeyword_arguments\u001b[0m\u001b[0;34m(\u001b[0m\u001b[0mversion\u001b[0m\u001b[0;34m=\u001b[0m\u001b[0;32mNone\u001b[0m\u001b[0;34m,\u001b[0m \u001b[0mallowed_args\u001b[0m\u001b[0;34m=\u001b[0m\u001b[0;34m[\u001b[0m\u001b[0;34m\"self\"\u001b[0m\u001b[0;34m,\u001b[0m \u001b[0;34m\"labels\"\u001b[0m\u001b[0;34m]\u001b[0m\u001b[0;34m)\u001b[0m\u001b[0;34m\u001b[0m\u001b[0;34m\u001b[0m\u001b[0m\n",
      "\u001b[0;32m~/opt/anaconda3/envs/geopy/lib/python3.9/site-packages/pandas/core/generic.py\u001b[0m in \u001b[0;36mreindex\u001b[0;34m(self, *args, **kwargs)\u001b[0m\n\u001b[1;32m   4816\u001b[0m \u001b[0;34m\u001b[0m\u001b[0m\n\u001b[1;32m   4817\u001b[0m         \u001b[0;31m# perform the reindex on the axes\u001b[0m\u001b[0;34m\u001b[0m\u001b[0;34m\u001b[0m\u001b[0m\n\u001b[0;32m-> 4818\u001b[0;31m         return self._reindex_axes(\n\u001b[0m\u001b[1;32m   4819\u001b[0m             \u001b[0maxes\u001b[0m\u001b[0;34m,\u001b[0m \u001b[0mlevel\u001b[0m\u001b[0;34m,\u001b[0m \u001b[0mlimit\u001b[0m\u001b[0;34m,\u001b[0m \u001b[0mtolerance\u001b[0m\u001b[0;34m,\u001b[0m \u001b[0mmethod\u001b[0m\u001b[0;34m,\u001b[0m \u001b[0mfill_value\u001b[0m\u001b[0;34m,\u001b[0m \u001b[0mcopy\u001b[0m\u001b[0;34m\u001b[0m\u001b[0;34m\u001b[0m\u001b[0m\n\u001b[1;32m   4820\u001b[0m         ).__finalize__(self, method=\"reindex\")\n",
      "\u001b[0;32m~/opt/anaconda3/envs/geopy/lib/python3.9/site-packages/pandas/core/generic.py\u001b[0m in \u001b[0;36m_reindex_axes\u001b[0;34m(self, axes, level, limit, tolerance, method, fill_value, copy)\u001b[0m\n\u001b[1;32m   4837\u001b[0m \u001b[0;34m\u001b[0m\u001b[0m\n\u001b[1;32m   4838\u001b[0m             \u001b[0maxis\u001b[0m \u001b[0;34m=\u001b[0m \u001b[0mself\u001b[0m\u001b[0;34m.\u001b[0m\u001b[0m_get_axis_number\u001b[0m\u001b[0;34m(\u001b[0m\u001b[0ma\u001b[0m\u001b[0;34m)\u001b[0m\u001b[0;34m\u001b[0m\u001b[0;34m\u001b[0m\u001b[0m\n\u001b[0;32m-> 4839\u001b[0;31m             obj = obj._reindex_with_indexers(\n\u001b[0m\u001b[1;32m   4840\u001b[0m                 \u001b[0;34m{\u001b[0m\u001b[0maxis\u001b[0m\u001b[0;34m:\u001b[0m \u001b[0;34m[\u001b[0m\u001b[0mnew_index\u001b[0m\u001b[0;34m,\u001b[0m \u001b[0mindexer\u001b[0m\u001b[0;34m]\u001b[0m\u001b[0;34m}\u001b[0m\u001b[0;34m,\u001b[0m\u001b[0;34m\u001b[0m\u001b[0;34m\u001b[0m\u001b[0m\n\u001b[1;32m   4841\u001b[0m                 \u001b[0mfill_value\u001b[0m\u001b[0;34m=\u001b[0m\u001b[0mfill_value\u001b[0m\u001b[0;34m,\u001b[0m\u001b[0;34m\u001b[0m\u001b[0;34m\u001b[0m\u001b[0m\n",
      "\u001b[0;32m~/opt/anaconda3/envs/geopy/lib/python3.9/site-packages/pandas/core/generic.py\u001b[0m in \u001b[0;36m_reindex_with_indexers\u001b[0;34m(self, reindexers, fill_value, copy, allow_dups)\u001b[0m\n\u001b[1;32m   4881\u001b[0m \u001b[0;34m\u001b[0m\u001b[0m\n\u001b[1;32m   4882\u001b[0m             \u001b[0;31m# TODO: speed up on homogeneous DataFrame objects\u001b[0m\u001b[0;34m\u001b[0m\u001b[0;34m\u001b[0m\u001b[0m\n\u001b[0;32m-> 4883\u001b[0;31m             new_data = new_data.reindex_indexer(\n\u001b[0m\u001b[1;32m   4884\u001b[0m                 \u001b[0mindex\u001b[0m\u001b[0;34m,\u001b[0m\u001b[0;34m\u001b[0m\u001b[0;34m\u001b[0m\u001b[0m\n\u001b[1;32m   4885\u001b[0m                 \u001b[0mindexer\u001b[0m\u001b[0;34m,\u001b[0m\u001b[0;34m\u001b[0m\u001b[0;34m\u001b[0m\u001b[0m\n",
      "\u001b[0;32m~/opt/anaconda3/envs/geopy/lib/python3.9/site-packages/pandas/core/internals/managers.py\u001b[0m in \u001b[0;36mreindex_indexer\u001b[0;34m(self, new_axis, indexer, axis, fill_value, allow_dups, copy, consolidate, only_slice)\u001b[0m\n\u001b[1;32m    668\u001b[0m         \u001b[0;31m# some axes don't allow reindexing with dups\u001b[0m\u001b[0;34m\u001b[0m\u001b[0;34m\u001b[0m\u001b[0m\n\u001b[1;32m    669\u001b[0m         \u001b[0;32mif\u001b[0m \u001b[0;32mnot\u001b[0m \u001b[0mallow_dups\u001b[0m\u001b[0;34m:\u001b[0m\u001b[0;34m\u001b[0m\u001b[0;34m\u001b[0m\u001b[0m\n\u001b[0;32m--> 670\u001b[0;31m             \u001b[0mself\u001b[0m\u001b[0;34m.\u001b[0m\u001b[0maxes\u001b[0m\u001b[0;34m[\u001b[0m\u001b[0maxis\u001b[0m\u001b[0;34m]\u001b[0m\u001b[0;34m.\u001b[0m\u001b[0m_validate_can_reindex\u001b[0m\u001b[0;34m(\u001b[0m\u001b[0mindexer\u001b[0m\u001b[0;34m)\u001b[0m\u001b[0;34m\u001b[0m\u001b[0;34m\u001b[0m\u001b[0m\n\u001b[0m\u001b[1;32m    671\u001b[0m \u001b[0;34m\u001b[0m\u001b[0m\n\u001b[1;32m    672\u001b[0m         \u001b[0;32mif\u001b[0m \u001b[0maxis\u001b[0m \u001b[0;34m>=\u001b[0m \u001b[0mself\u001b[0m\u001b[0;34m.\u001b[0m\u001b[0mndim\u001b[0m\u001b[0;34m:\u001b[0m\u001b[0;34m\u001b[0m\u001b[0;34m\u001b[0m\u001b[0m\n",
      "\u001b[0;32m~/opt/anaconda3/envs/geopy/lib/python3.9/site-packages/pandas/core/indexes/base.py\u001b[0m in \u001b[0;36m_validate_can_reindex\u001b[0;34m(self, indexer)\u001b[0m\n\u001b[1;32m   3783\u001b[0m         \u001b[0;31m# trying to reindex on an axis with duplicates\u001b[0m\u001b[0;34m\u001b[0m\u001b[0;34m\u001b[0m\u001b[0m\n\u001b[1;32m   3784\u001b[0m         \u001b[0;32mif\u001b[0m \u001b[0;32mnot\u001b[0m \u001b[0mself\u001b[0m\u001b[0;34m.\u001b[0m\u001b[0m_index_as_unique\u001b[0m \u001b[0;32mand\u001b[0m \u001b[0mlen\u001b[0m\u001b[0;34m(\u001b[0m\u001b[0mindexer\u001b[0m\u001b[0;34m)\u001b[0m\u001b[0;34m:\u001b[0m\u001b[0;34m\u001b[0m\u001b[0;34m\u001b[0m\u001b[0m\n\u001b[0;32m-> 3785\u001b[0;31m             \u001b[0;32mraise\u001b[0m \u001b[0mValueError\u001b[0m\u001b[0;34m(\u001b[0m\u001b[0;34m\"cannot reindex from a duplicate axis\"\u001b[0m\u001b[0;34m)\u001b[0m\u001b[0;34m\u001b[0m\u001b[0;34m\u001b[0m\u001b[0m\n\u001b[0m\u001b[1;32m   3786\u001b[0m \u001b[0;34m\u001b[0m\u001b[0m\n\u001b[1;32m   3787\u001b[0m     def reindex(\n",
      "\u001b[0;31mValueError\u001b[0m: cannot reindex from a duplicate axis"
     ]
    }
   ],
   "source": [
    "b = gpd.GeoDataFrame(r.iloc[0, ], geometry=r['geometry'], crs=4326)"
   ]
  },
  {
   "cell_type": "code",
   "execution_count": 81,
   "id": "5240f4de",
   "metadata": {},
   "outputs": [
    {
     "ename": "AttributeError",
     "evalue": "No geometry data set yet (expected in column 'geometry'.)",
     "output_type": "error",
     "traceback": [
      "\u001b[0;31m---------------------------------------------------------------------------\u001b[0m",
      "\u001b[0;31mAttributeError\u001b[0m                            Traceback (most recent call last)",
      "\u001b[0;32m/var/folders/m2/xln7ft1d69b42rc360vwsyhr0000gn/T/ipykernel_14669/1602886890.py\u001b[0m in \u001b[0;36m<module>\u001b[0;34m\u001b[0m\n\u001b[0;32m----> 1\u001b[0;31m \u001b[0ma\u001b[0m\u001b[0;34m.\u001b[0m\u001b[0mdistance\u001b[0m\u001b[0;34m(\u001b[0m\u001b[0mb\u001b[0m\u001b[0;34m,\u001b[0m \u001b[0malign\u001b[0m\u001b[0;34m=\u001b[0m\u001b[0;32mFalse\u001b[0m\u001b[0;34m)\u001b[0m\u001b[0;34m\u001b[0m\u001b[0;34m\u001b[0m\u001b[0m\n\u001b[0m",
      "\u001b[0;32m~/opt/anaconda3/envs/geopy/lib/python3.9/site-packages/geopandas/base.py\u001b[0m in \u001b[0;36mdistance\u001b[0;34m(self, other, align)\u001b[0m\n\u001b[1;32m   2079\u001b[0m         \u001b[0mdtype\u001b[0m\u001b[0;34m:\u001b[0m \u001b[0mfloat64\u001b[0m\u001b[0;34m\u001b[0m\u001b[0;34m\u001b[0m\u001b[0m\n\u001b[1;32m   2080\u001b[0m         \"\"\"\n\u001b[0;32m-> 2081\u001b[0;31m         \u001b[0;32mreturn\u001b[0m \u001b[0m_binary_op\u001b[0m\u001b[0;34m(\u001b[0m\u001b[0;34m\"distance\"\u001b[0m\u001b[0;34m,\u001b[0m \u001b[0mself\u001b[0m\u001b[0;34m,\u001b[0m \u001b[0mother\u001b[0m\u001b[0;34m,\u001b[0m \u001b[0malign\u001b[0m\u001b[0;34m)\u001b[0m\u001b[0;34m\u001b[0m\u001b[0;34m\u001b[0m\u001b[0m\n\u001b[0m\u001b[1;32m   2082\u001b[0m \u001b[0;34m\u001b[0m\u001b[0m\n\u001b[1;32m   2083\u001b[0m     \u001b[0;31m#\u001b[0m\u001b[0;34m\u001b[0m\u001b[0;34m\u001b[0m\u001b[0m\n",
      "\u001b[0;32m~/opt/anaconda3/envs/geopy/lib/python3.9/site-packages/geopandas/base.py\u001b[0m in \u001b[0;36m_binary_op\u001b[0;34m(op, this, other, align, *args, **kwargs)\u001b[0m\n\u001b[1;32m     57\u001b[0m     \u001b[0;31m# type: (str, GeoSeries, GeoSeries, args/kwargs) -> Series[bool/float]\u001b[0m\u001b[0;34m\u001b[0m\u001b[0;34m\u001b[0m\u001b[0m\n\u001b[1;32m     58\u001b[0m     \u001b[0;34m\"\"\"Binary operation on GeoSeries objects that returns a Series\"\"\"\u001b[0m\u001b[0;34m\u001b[0m\u001b[0;34m\u001b[0m\u001b[0m\n\u001b[0;32m---> 59\u001b[0;31m     \u001b[0mdata\u001b[0m\u001b[0;34m,\u001b[0m \u001b[0mindex\u001b[0m \u001b[0;34m=\u001b[0m \u001b[0m_delegate_binary_method\u001b[0m\u001b[0;34m(\u001b[0m\u001b[0mop\u001b[0m\u001b[0;34m,\u001b[0m \u001b[0mthis\u001b[0m\u001b[0;34m,\u001b[0m \u001b[0mother\u001b[0m\u001b[0;34m,\u001b[0m \u001b[0malign\u001b[0m\u001b[0;34m,\u001b[0m \u001b[0;34m*\u001b[0m\u001b[0margs\u001b[0m\u001b[0;34m,\u001b[0m \u001b[0;34m**\u001b[0m\u001b[0mkwargs\u001b[0m\u001b[0;34m)\u001b[0m\u001b[0;34m\u001b[0m\u001b[0;34m\u001b[0m\u001b[0m\n\u001b[0m\u001b[1;32m     60\u001b[0m     \u001b[0;32mreturn\u001b[0m \u001b[0mSeries\u001b[0m\u001b[0;34m(\u001b[0m\u001b[0mdata\u001b[0m\u001b[0;34m,\u001b[0m \u001b[0mindex\u001b[0m\u001b[0;34m=\u001b[0m\u001b[0mindex\u001b[0m\u001b[0;34m)\u001b[0m\u001b[0;34m\u001b[0m\u001b[0;34m\u001b[0m\u001b[0m\n\u001b[1;32m     61\u001b[0m \u001b[0;34m\u001b[0m\u001b[0m\n",
      "\u001b[0;32m~/opt/anaconda3/envs/geopy/lib/python3.9/site-packages/geopandas/base.py\u001b[0m in \u001b[0;36m_delegate_binary_method\u001b[0;34m(op, this, other, align, *args, **kwargs)\u001b[0m\n\u001b[1;32m     32\u001b[0m             \u001b[0mthis\u001b[0m\u001b[0;34m,\u001b[0m \u001b[0mother\u001b[0m \u001b[0;34m=\u001b[0m \u001b[0mthis\u001b[0m\u001b[0;34m.\u001b[0m\u001b[0malign\u001b[0m\u001b[0;34m(\u001b[0m\u001b[0mother\u001b[0m\u001b[0;34m.\u001b[0m\u001b[0mgeometry\u001b[0m\u001b[0;34m)\u001b[0m\u001b[0;34m\u001b[0m\u001b[0;34m\u001b[0m\u001b[0m\n\u001b[1;32m     33\u001b[0m         \u001b[0;32melse\u001b[0m\u001b[0;34m:\u001b[0m\u001b[0;34m\u001b[0m\u001b[0;34m\u001b[0m\u001b[0m\n\u001b[0;32m---> 34\u001b[0;31m             \u001b[0mother\u001b[0m \u001b[0;34m=\u001b[0m \u001b[0mother\u001b[0m\u001b[0;34m.\u001b[0m\u001b[0mgeometry\u001b[0m\u001b[0;34m\u001b[0m\u001b[0;34m\u001b[0m\u001b[0m\n\u001b[0m\u001b[1;32m     35\u001b[0m \u001b[0;34m\u001b[0m\u001b[0m\n\u001b[1;32m     36\u001b[0m         \u001b[0ma_this\u001b[0m \u001b[0;34m=\u001b[0m \u001b[0mGeometryArray\u001b[0m\u001b[0;34m(\u001b[0m\u001b[0mthis\u001b[0m\u001b[0;34m.\u001b[0m\u001b[0mvalues\u001b[0m\u001b[0;34m)\u001b[0m\u001b[0;34m\u001b[0m\u001b[0;34m\u001b[0m\u001b[0m\n",
      "\u001b[0;32m~/opt/anaconda3/envs/geopy/lib/python3.9/site-packages/pandas/core/generic.py\u001b[0m in \u001b[0;36m__getattr__\u001b[0;34m(self, name)\u001b[0m\n\u001b[1;32m   5485\u001b[0m         ):\n\u001b[1;32m   5486\u001b[0m             \u001b[0;32mreturn\u001b[0m \u001b[0mself\u001b[0m\u001b[0;34m[\u001b[0m\u001b[0mname\u001b[0m\u001b[0;34m]\u001b[0m\u001b[0;34m\u001b[0m\u001b[0;34m\u001b[0m\u001b[0m\n\u001b[0;32m-> 5487\u001b[0;31m         \u001b[0;32mreturn\u001b[0m \u001b[0mobject\u001b[0m\u001b[0;34m.\u001b[0m\u001b[0m__getattribute__\u001b[0m\u001b[0;34m(\u001b[0m\u001b[0mself\u001b[0m\u001b[0;34m,\u001b[0m \u001b[0mname\u001b[0m\u001b[0;34m)\u001b[0m\u001b[0;34m\u001b[0m\u001b[0;34m\u001b[0m\u001b[0m\n\u001b[0m\u001b[1;32m   5488\u001b[0m \u001b[0;34m\u001b[0m\u001b[0m\n\u001b[1;32m   5489\u001b[0m     \u001b[0;32mdef\u001b[0m \u001b[0m__setattr__\u001b[0m\u001b[0;34m(\u001b[0m\u001b[0mself\u001b[0m\u001b[0;34m,\u001b[0m \u001b[0mname\u001b[0m\u001b[0;34m:\u001b[0m \u001b[0mstr\u001b[0m\u001b[0;34m,\u001b[0m \u001b[0mvalue\u001b[0m\u001b[0;34m)\u001b[0m \u001b[0;34m->\u001b[0m \u001b[0;32mNone\u001b[0m\u001b[0;34m:\u001b[0m\u001b[0;34m\u001b[0m\u001b[0;34m\u001b[0m\u001b[0m\n",
      "\u001b[0;32m~/opt/anaconda3/envs/geopy/lib/python3.9/site-packages/geopandas/geodataframe.py\u001b[0m in \u001b[0;36m_get_geometry\u001b[0;34m(self)\u001b[0m\n\u001b[1;32m    201\u001b[0m     \u001b[0;32mdef\u001b[0m \u001b[0m_get_geometry\u001b[0m\u001b[0;34m(\u001b[0m\u001b[0mself\u001b[0m\u001b[0;34m)\u001b[0m\u001b[0;34m:\u001b[0m\u001b[0;34m\u001b[0m\u001b[0;34m\u001b[0m\u001b[0m\n\u001b[1;32m    202\u001b[0m         \u001b[0;32mif\u001b[0m \u001b[0mself\u001b[0m\u001b[0;34m.\u001b[0m\u001b[0m_geometry_column_name\u001b[0m \u001b[0;32mnot\u001b[0m \u001b[0;32min\u001b[0m \u001b[0mself\u001b[0m\u001b[0;34m:\u001b[0m\u001b[0;34m\u001b[0m\u001b[0;34m\u001b[0m\u001b[0m\n\u001b[0;32m--> 203\u001b[0;31m             raise AttributeError(\n\u001b[0m\u001b[1;32m    204\u001b[0m                 \u001b[0;34m\"No geometry data set yet (expected in\"\u001b[0m\u001b[0;34m\u001b[0m\u001b[0;34m\u001b[0m\u001b[0m\n\u001b[1;32m    205\u001b[0m                 \u001b[0;34m\" column '%s'.)\"\u001b[0m \u001b[0;34m%\u001b[0m \u001b[0mself\u001b[0m\u001b[0;34m.\u001b[0m\u001b[0m_geometry_column_name\u001b[0m\u001b[0;34m\u001b[0m\u001b[0;34m\u001b[0m\u001b[0m\n",
      "\u001b[0;31mAttributeError\u001b[0m: No geometry data set yet (expected in column 'geometry'.)"
     ]
    }
   ],
   "source": [
    "a.distance(b, align=False)"
   ]
  },
  {
   "cell_type": "code",
   "execution_count": 51,
   "id": "f346b8ee",
   "metadata": {},
   "outputs": [
    {
     "data": {
      "text/html": [
       "<div>\n",
       "<style scoped>\n",
       "    .dataframe tbody tr th:only-of-type {\n",
       "        vertical-align: middle;\n",
       "    }\n",
       "\n",
       "    .dataframe tbody tr th {\n",
       "        vertical-align: top;\n",
       "    }\n",
       "\n",
       "    .dataframe thead th {\n",
       "        text-align: right;\n",
       "    }\n",
       "</style>\n",
       "<table border=\"1\" class=\"dataframe\">\n",
       "  <thead>\n",
       "    <tr style=\"text-align: right;\">\n",
       "      <th></th>\n",
       "      <th>idf</th>\n",
       "      <th>cnt</th>\n",
       "    </tr>\n",
       "  </thead>\n",
       "  <tbody>\n",
       "    <tr>\n",
       "      <th>0</th>\n",
       "      <td>642</td>\n",
       "      <td>4</td>\n",
       "    </tr>\n",
       "    <tr>\n",
       "      <th>1</th>\n",
       "      <td>4807</td>\n",
       "      <td>3</td>\n",
       "    </tr>\n",
       "    <tr>\n",
       "      <th>2</th>\n",
       "      <td>4486</td>\n",
       "      <td>1</td>\n",
       "    </tr>\n",
       "    <tr>\n",
       "      <th>3</th>\n",
       "      <td>4485</td>\n",
       "      <td>1</td>\n",
       "    </tr>\n",
       "    <tr>\n",
       "      <th>4</th>\n",
       "      <td>636</td>\n",
       "      <td>1</td>\n",
       "    </tr>\n",
       "    <tr>\n",
       "      <th>5</th>\n",
       "      <td>4564</td>\n",
       "      <td>1</td>\n",
       "    </tr>\n",
       "    <tr>\n",
       "      <th>6</th>\n",
       "      <td>4547</td>\n",
       "      <td>1</td>\n",
       "    </tr>\n",
       "  </tbody>\n",
       "</table>\n",
       "</div>"
      ],
      "text/plain": [
       "    idf  cnt\n",
       "0   642    4\n",
       "1  4807    3\n",
       "2  4486    1\n",
       "3  4485    1\n",
       "4   636    1\n",
       "5  4564    1\n",
       "6  4547    1"
      ]
     },
     "execution_count": 51,
     "metadata": {},
     "output_type": "execute_result"
    }
   ],
   "source": [
    "rcount = resumo(candidatos)\n",
    "rcount"
   ]
  },
  {
   "cell_type": "code",
   "execution_count": 59,
   "id": "f411ddf2",
   "metadata": {},
   "outputs": [
    {
     "ename": "ValueError",
     "evalue": "Lengths of inputs do not match. Left: 0, Right: 1",
     "output_type": "error",
     "traceback": [
      "\u001b[0;31m---------------------------------------------------------------------------\u001b[0m",
      "\u001b[0;31mValueError\u001b[0m                                Traceback (most recent call last)",
      "\u001b[0;32m/var/folders/m2/xln7ft1d69b42rc360vwsyhr0000gn/T/ipykernel_14669/1112335808.py\u001b[0m in \u001b[0;36m<module>\u001b[0;34m\u001b[0m\n\u001b[0;32m----> 1\u001b[0;31m \u001b[0mrcount\u001b[0m\u001b[0;34m.\u001b[0m\u001b[0mapply\u001b[0m\u001b[0;34m(\u001b[0m\u001b[0mgetdistance\u001b[0m\u001b[0;34m,\u001b[0m \u001b[0maxis\u001b[0m\u001b[0;34m=\u001b[0m\u001b[0;36m1\u001b[0m\u001b[0;34m)\u001b[0m\u001b[0;34m\u001b[0m\u001b[0;34m\u001b[0m\u001b[0m\n\u001b[0m",
      "\u001b[0;32m~/opt/anaconda3/envs/geopy/lib/python3.9/site-packages/pandas/core/frame.py\u001b[0m in \u001b[0;36mapply\u001b[0;34m(self, func, axis, raw, result_type, args, **kwargs)\u001b[0m\n\u001b[1;32m   8739\u001b[0m             \u001b[0mkwargs\u001b[0m\u001b[0;34m=\u001b[0m\u001b[0mkwargs\u001b[0m\u001b[0;34m,\u001b[0m\u001b[0;34m\u001b[0m\u001b[0;34m\u001b[0m\u001b[0m\n\u001b[1;32m   8740\u001b[0m         )\n\u001b[0;32m-> 8741\u001b[0;31m         \u001b[0;32mreturn\u001b[0m \u001b[0mop\u001b[0m\u001b[0;34m.\u001b[0m\u001b[0mapply\u001b[0m\u001b[0;34m(\u001b[0m\u001b[0;34m)\u001b[0m\u001b[0;34m\u001b[0m\u001b[0;34m\u001b[0m\u001b[0m\n\u001b[0m\u001b[1;32m   8742\u001b[0m \u001b[0;34m\u001b[0m\u001b[0m\n\u001b[1;32m   8743\u001b[0m     def applymap(\n",
      "\u001b[0;32m~/opt/anaconda3/envs/geopy/lib/python3.9/site-packages/pandas/core/apply.py\u001b[0m in \u001b[0;36mapply\u001b[0;34m(self)\u001b[0m\n\u001b[1;32m    686\u001b[0m             \u001b[0;32mreturn\u001b[0m \u001b[0mself\u001b[0m\u001b[0;34m.\u001b[0m\u001b[0mapply_raw\u001b[0m\u001b[0;34m(\u001b[0m\u001b[0;34m)\u001b[0m\u001b[0;34m\u001b[0m\u001b[0;34m\u001b[0m\u001b[0m\n\u001b[1;32m    687\u001b[0m \u001b[0;34m\u001b[0m\u001b[0m\n\u001b[0;32m--> 688\u001b[0;31m         \u001b[0;32mreturn\u001b[0m \u001b[0mself\u001b[0m\u001b[0;34m.\u001b[0m\u001b[0mapply_standard\u001b[0m\u001b[0;34m(\u001b[0m\u001b[0;34m)\u001b[0m\u001b[0;34m\u001b[0m\u001b[0;34m\u001b[0m\u001b[0m\n\u001b[0m\u001b[1;32m    689\u001b[0m \u001b[0;34m\u001b[0m\u001b[0m\n\u001b[1;32m    690\u001b[0m     \u001b[0;32mdef\u001b[0m \u001b[0magg\u001b[0m\u001b[0;34m(\u001b[0m\u001b[0mself\u001b[0m\u001b[0;34m)\u001b[0m\u001b[0;34m:\u001b[0m\u001b[0;34m\u001b[0m\u001b[0;34m\u001b[0m\u001b[0m\n",
      "\u001b[0;32m~/opt/anaconda3/envs/geopy/lib/python3.9/site-packages/pandas/core/apply.py\u001b[0m in \u001b[0;36mapply_standard\u001b[0;34m(self)\u001b[0m\n\u001b[1;32m    810\u001b[0m \u001b[0;34m\u001b[0m\u001b[0m\n\u001b[1;32m    811\u001b[0m     \u001b[0;32mdef\u001b[0m \u001b[0mapply_standard\u001b[0m\u001b[0;34m(\u001b[0m\u001b[0mself\u001b[0m\u001b[0;34m)\u001b[0m\u001b[0;34m:\u001b[0m\u001b[0;34m\u001b[0m\u001b[0;34m\u001b[0m\u001b[0m\n\u001b[0;32m--> 812\u001b[0;31m         \u001b[0mresults\u001b[0m\u001b[0;34m,\u001b[0m \u001b[0mres_index\u001b[0m \u001b[0;34m=\u001b[0m \u001b[0mself\u001b[0m\u001b[0;34m.\u001b[0m\u001b[0mapply_series_generator\u001b[0m\u001b[0;34m(\u001b[0m\u001b[0;34m)\u001b[0m\u001b[0;34m\u001b[0m\u001b[0;34m\u001b[0m\u001b[0m\n\u001b[0m\u001b[1;32m    813\u001b[0m \u001b[0;34m\u001b[0m\u001b[0m\n\u001b[1;32m    814\u001b[0m         \u001b[0;31m# wrap results\u001b[0m\u001b[0;34m\u001b[0m\u001b[0;34m\u001b[0m\u001b[0m\n",
      "\u001b[0;32m~/opt/anaconda3/envs/geopy/lib/python3.9/site-packages/pandas/core/apply.py\u001b[0m in \u001b[0;36mapply_series_generator\u001b[0;34m(self)\u001b[0m\n\u001b[1;32m    826\u001b[0m             \u001b[0;32mfor\u001b[0m \u001b[0mi\u001b[0m\u001b[0;34m,\u001b[0m \u001b[0mv\u001b[0m \u001b[0;32min\u001b[0m \u001b[0menumerate\u001b[0m\u001b[0;34m(\u001b[0m\u001b[0mseries_gen\u001b[0m\u001b[0;34m)\u001b[0m\u001b[0;34m:\u001b[0m\u001b[0;34m\u001b[0m\u001b[0;34m\u001b[0m\u001b[0m\n\u001b[1;32m    827\u001b[0m                 \u001b[0;31m# ignore SettingWithCopy here in case the user mutates\u001b[0m\u001b[0;34m\u001b[0m\u001b[0;34m\u001b[0m\u001b[0m\n\u001b[0;32m--> 828\u001b[0;31m                 \u001b[0mresults\u001b[0m\u001b[0;34m[\u001b[0m\u001b[0mi\u001b[0m\u001b[0;34m]\u001b[0m \u001b[0;34m=\u001b[0m \u001b[0mself\u001b[0m\u001b[0;34m.\u001b[0m\u001b[0mf\u001b[0m\u001b[0;34m(\u001b[0m\u001b[0mv\u001b[0m\u001b[0;34m)\u001b[0m\u001b[0;34m\u001b[0m\u001b[0;34m\u001b[0m\u001b[0m\n\u001b[0m\u001b[1;32m    829\u001b[0m                 \u001b[0;32mif\u001b[0m \u001b[0misinstance\u001b[0m\u001b[0;34m(\u001b[0m\u001b[0mresults\u001b[0m\u001b[0;34m[\u001b[0m\u001b[0mi\u001b[0m\u001b[0;34m]\u001b[0m\u001b[0;34m,\u001b[0m \u001b[0mABCSeries\u001b[0m\u001b[0;34m)\u001b[0m\u001b[0;34m:\u001b[0m\u001b[0;34m\u001b[0m\u001b[0;34m\u001b[0m\u001b[0m\n\u001b[1;32m    830\u001b[0m                     \u001b[0;31m# If we have a view on v, we need to make a copy because\u001b[0m\u001b[0;34m\u001b[0m\u001b[0;34m\u001b[0m\u001b[0m\n",
      "\u001b[0;32m/var/folders/m2/xln7ft1d69b42rc360vwsyhr0000gn/T/ipykernel_14669/3246692305.py\u001b[0m in \u001b[0;36mgetdistance\u001b[0;34m(row)\u001b[0m\n\u001b[1;32m      2\u001b[0m     \u001b[0ma\u001b[0m \u001b[0;34m=\u001b[0m \u001b[0mfocos_geo\u001b[0m\u001b[0;34m.\u001b[0m\u001b[0mloc\u001b[0m\u001b[0;34m[\u001b[0m\u001b[0mfocos_geo\u001b[0m\u001b[0;34m.\u001b[0m\u001b[0mindex\u001b[0m \u001b[0;34m==\u001b[0m \u001b[0;36m0\u001b[0m\u001b[0;34m]\u001b[0m\u001b[0;34m.\u001b[0m\u001b[0mto_crs\u001b[0m\u001b[0;34m(\u001b[0m\u001b[0mepsg\u001b[0m\u001b[0;34m=\u001b[0m\u001b[0;36m32722\u001b[0m\u001b[0;34m)\u001b[0m\u001b[0;34m\u001b[0m\u001b[0;34m\u001b[0m\u001b[0m\n\u001b[1;32m      3\u001b[0m     \u001b[0mr\u001b[0m \u001b[0;34m=\u001b[0m \u001b[0mcandidatos\u001b[0m\u001b[0;34m.\u001b[0m\u001b[0mloc\u001b[0m\u001b[0;34m[\u001b[0m\u001b[0mcandidatos\u001b[0m\u001b[0;34m.\u001b[0m\u001b[0mindex\u001b[0m \u001b[0;34m==\u001b[0m \u001b[0;36m32735\u001b[0m\u001b[0;34m]\u001b[0m\u001b[0;34m.\u001b[0m\u001b[0mto_crs\u001b[0m\u001b[0;34m(\u001b[0m\u001b[0mepsg\u001b[0m\u001b[0;34m=\u001b[0m\u001b[0;36m32722\u001b[0m\u001b[0;34m)\u001b[0m\u001b[0;34m\u001b[0m\u001b[0;34m\u001b[0m\u001b[0m\n\u001b[0;32m----> 4\u001b[0;31m     \u001b[0md\u001b[0m \u001b[0;34m=\u001b[0m \u001b[0mr\u001b[0m\u001b[0;34m.\u001b[0m\u001b[0mdistance\u001b[0m\u001b[0;34m(\u001b[0m\u001b[0ma\u001b[0m\u001b[0;34m,\u001b[0m\u001b[0malign\u001b[0m\u001b[0;34m=\u001b[0m\u001b[0;32mFalse\u001b[0m\u001b[0;34m)\u001b[0m\u001b[0;34m\u001b[0m\u001b[0;34m\u001b[0m\u001b[0m\n\u001b[0m\u001b[1;32m      5\u001b[0m     \u001b[0mprint\u001b[0m\u001b[0;34m(\u001b[0m\u001b[0md\u001b[0m\u001b[0;34m)\u001b[0m\u001b[0;34m\u001b[0m\u001b[0;34m\u001b[0m\u001b[0m\n",
      "\u001b[0;32m~/opt/anaconda3/envs/geopy/lib/python3.9/site-packages/geopandas/base.py\u001b[0m in \u001b[0;36mdistance\u001b[0;34m(self, other, align)\u001b[0m\n\u001b[1;32m   2079\u001b[0m         \u001b[0mdtype\u001b[0m\u001b[0;34m:\u001b[0m \u001b[0mfloat64\u001b[0m\u001b[0;34m\u001b[0m\u001b[0;34m\u001b[0m\u001b[0m\n\u001b[1;32m   2080\u001b[0m         \"\"\"\n\u001b[0;32m-> 2081\u001b[0;31m         \u001b[0;32mreturn\u001b[0m \u001b[0m_binary_op\u001b[0m\u001b[0;34m(\u001b[0m\u001b[0;34m\"distance\"\u001b[0m\u001b[0;34m,\u001b[0m \u001b[0mself\u001b[0m\u001b[0;34m,\u001b[0m \u001b[0mother\u001b[0m\u001b[0;34m,\u001b[0m \u001b[0malign\u001b[0m\u001b[0;34m)\u001b[0m\u001b[0;34m\u001b[0m\u001b[0;34m\u001b[0m\u001b[0m\n\u001b[0m\u001b[1;32m   2082\u001b[0m \u001b[0;34m\u001b[0m\u001b[0m\n\u001b[1;32m   2083\u001b[0m     \u001b[0;31m#\u001b[0m\u001b[0;34m\u001b[0m\u001b[0;34m\u001b[0m\u001b[0m\n",
      "\u001b[0;32m~/opt/anaconda3/envs/geopy/lib/python3.9/site-packages/geopandas/base.py\u001b[0m in \u001b[0;36m_binary_op\u001b[0;34m(op, this, other, align, *args, **kwargs)\u001b[0m\n\u001b[1;32m     57\u001b[0m     \u001b[0;31m# type: (str, GeoSeries, GeoSeries, args/kwargs) -> Series[bool/float]\u001b[0m\u001b[0;34m\u001b[0m\u001b[0;34m\u001b[0m\u001b[0m\n\u001b[1;32m     58\u001b[0m     \u001b[0;34m\"\"\"Binary operation on GeoSeries objects that returns a Series\"\"\"\u001b[0m\u001b[0;34m\u001b[0m\u001b[0;34m\u001b[0m\u001b[0m\n\u001b[0;32m---> 59\u001b[0;31m     \u001b[0mdata\u001b[0m\u001b[0;34m,\u001b[0m \u001b[0mindex\u001b[0m \u001b[0;34m=\u001b[0m \u001b[0m_delegate_binary_method\u001b[0m\u001b[0;34m(\u001b[0m\u001b[0mop\u001b[0m\u001b[0;34m,\u001b[0m \u001b[0mthis\u001b[0m\u001b[0;34m,\u001b[0m \u001b[0mother\u001b[0m\u001b[0;34m,\u001b[0m \u001b[0malign\u001b[0m\u001b[0;34m,\u001b[0m \u001b[0;34m*\u001b[0m\u001b[0margs\u001b[0m\u001b[0;34m,\u001b[0m \u001b[0;34m**\u001b[0m\u001b[0mkwargs\u001b[0m\u001b[0;34m)\u001b[0m\u001b[0;34m\u001b[0m\u001b[0;34m\u001b[0m\u001b[0m\n\u001b[0m\u001b[1;32m     60\u001b[0m     \u001b[0;32mreturn\u001b[0m \u001b[0mSeries\u001b[0m\u001b[0;34m(\u001b[0m\u001b[0mdata\u001b[0m\u001b[0;34m,\u001b[0m \u001b[0mindex\u001b[0m\u001b[0;34m=\u001b[0m\u001b[0mindex\u001b[0m\u001b[0;34m)\u001b[0m\u001b[0;34m\u001b[0m\u001b[0;34m\u001b[0m\u001b[0m\n\u001b[1;32m     61\u001b[0m \u001b[0;34m\u001b[0m\u001b[0m\n",
      "\u001b[0;32m~/opt/anaconda3/envs/geopy/lib/python3.9/site-packages/geopandas/base.py\u001b[0m in \u001b[0;36m_delegate_binary_method\u001b[0;34m(op, this, other, align, *args, **kwargs)\u001b[0m\n\u001b[1;32m     41\u001b[0m         \u001b[0;32mraise\u001b[0m \u001b[0mTypeError\u001b[0m\u001b[0;34m(\u001b[0m\u001b[0mtype\u001b[0m\u001b[0;34m(\u001b[0m\u001b[0mthis\u001b[0m\u001b[0;34m)\u001b[0m\u001b[0;34m,\u001b[0m \u001b[0mtype\u001b[0m\u001b[0;34m(\u001b[0m\u001b[0mother\u001b[0m\u001b[0;34m)\u001b[0m\u001b[0;34m)\u001b[0m\u001b[0;34m\u001b[0m\u001b[0;34m\u001b[0m\u001b[0m\n\u001b[1;32m     42\u001b[0m \u001b[0;34m\u001b[0m\u001b[0m\n\u001b[0;32m---> 43\u001b[0;31m     \u001b[0mdata\u001b[0m \u001b[0;34m=\u001b[0m \u001b[0mgetattr\u001b[0m\u001b[0;34m(\u001b[0m\u001b[0ma_this\u001b[0m\u001b[0;34m,\u001b[0m \u001b[0mop\u001b[0m\u001b[0;34m)\u001b[0m\u001b[0;34m(\u001b[0m\u001b[0mother\u001b[0m\u001b[0;34m,\u001b[0m \u001b[0;34m*\u001b[0m\u001b[0margs\u001b[0m\u001b[0;34m,\u001b[0m \u001b[0;34m**\u001b[0m\u001b[0mkwargs\u001b[0m\u001b[0;34m)\u001b[0m\u001b[0;34m\u001b[0m\u001b[0;34m\u001b[0m\u001b[0m\n\u001b[0m\u001b[1;32m     44\u001b[0m     \u001b[0;32mreturn\u001b[0m \u001b[0mdata\u001b[0m\u001b[0;34m,\u001b[0m \u001b[0mthis\u001b[0m\u001b[0;34m.\u001b[0m\u001b[0mindex\u001b[0m\u001b[0;34m\u001b[0m\u001b[0;34m\u001b[0m\u001b[0m\n\u001b[1;32m     45\u001b[0m \u001b[0;34m\u001b[0m\u001b[0m\n",
      "\u001b[0;32m~/opt/anaconda3/envs/geopy/lib/python3.9/site-packages/geopandas/array.py\u001b[0m in \u001b[0;36mdistance\u001b[0;34m(self, other)\u001b[0m\n\u001b[1;32m    608\u001b[0m     \u001b[0;32mdef\u001b[0m \u001b[0mdistance\u001b[0m\u001b[0;34m(\u001b[0m\u001b[0mself\u001b[0m\u001b[0;34m,\u001b[0m \u001b[0mother\u001b[0m\u001b[0;34m)\u001b[0m\u001b[0;34m:\u001b[0m\u001b[0;34m\u001b[0m\u001b[0;34m\u001b[0m\u001b[0m\n\u001b[1;32m    609\u001b[0m         \u001b[0mself\u001b[0m\u001b[0;34m.\u001b[0m\u001b[0mcheck_geographic_crs\u001b[0m\u001b[0;34m(\u001b[0m\u001b[0mstacklevel\u001b[0m\u001b[0;34m=\u001b[0m\u001b[0;36m6\u001b[0m\u001b[0;34m)\u001b[0m\u001b[0;34m\u001b[0m\u001b[0;34m\u001b[0m\u001b[0m\n\u001b[0;32m--> 610\u001b[0;31m         \u001b[0;32mreturn\u001b[0m \u001b[0mself\u001b[0m\u001b[0;34m.\u001b[0m\u001b[0m_binary_method\u001b[0m\u001b[0;34m(\u001b[0m\u001b[0;34m\"distance\"\u001b[0m\u001b[0;34m,\u001b[0m \u001b[0mself\u001b[0m\u001b[0;34m,\u001b[0m \u001b[0mother\u001b[0m\u001b[0;34m)\u001b[0m\u001b[0;34m\u001b[0m\u001b[0;34m\u001b[0m\u001b[0m\n\u001b[0m\u001b[1;32m    611\u001b[0m \u001b[0;34m\u001b[0m\u001b[0m\n\u001b[1;32m    612\u001b[0m     \u001b[0;32mdef\u001b[0m \u001b[0mbuffer\u001b[0m\u001b[0;34m(\u001b[0m\u001b[0mself\u001b[0m\u001b[0;34m,\u001b[0m \u001b[0mdistance\u001b[0m\u001b[0;34m,\u001b[0m \u001b[0mresolution\u001b[0m\u001b[0;34m=\u001b[0m\u001b[0;36m16\u001b[0m\u001b[0;34m,\u001b[0m \u001b[0;34m**\u001b[0m\u001b[0mkwargs\u001b[0m\u001b[0;34m)\u001b[0m\u001b[0;34m:\u001b[0m\u001b[0;34m\u001b[0m\u001b[0;34m\u001b[0m\u001b[0m\n",
      "\u001b[0;32m~/opt/anaconda3/envs/geopy/lib/python3.9/site-packages/geopandas/array.py\u001b[0m in \u001b[0;36m_binary_method\u001b[0;34m(op, left, right, **kwargs)\u001b[0m\n\u001b[1;32m    518\u001b[0m                     \u001b[0mlen\u001b[0m\u001b[0;34m(\u001b[0m\u001b[0mleft\u001b[0m\u001b[0;34m)\u001b[0m\u001b[0;34m,\u001b[0m \u001b[0mlen\u001b[0m\u001b[0;34m(\u001b[0m\u001b[0mright\u001b[0m\u001b[0;34m)\u001b[0m\u001b[0;34m\u001b[0m\u001b[0;34m\u001b[0m\u001b[0m\n\u001b[1;32m    519\u001b[0m                 )\n\u001b[0;32m--> 520\u001b[0;31m                 \u001b[0;32mraise\u001b[0m \u001b[0mValueError\u001b[0m\u001b[0;34m(\u001b[0m\u001b[0mmsg\u001b[0m\u001b[0;34m)\u001b[0m\u001b[0;34m\u001b[0m\u001b[0;34m\u001b[0m\u001b[0m\n\u001b[0m\u001b[1;32m    521\u001b[0m             \u001b[0;32mif\u001b[0m \u001b[0;32mnot\u001b[0m \u001b[0m_check_crs\u001b[0m\u001b[0;34m(\u001b[0m\u001b[0mleft\u001b[0m\u001b[0;34m,\u001b[0m \u001b[0mright\u001b[0m\u001b[0;34m)\u001b[0m\u001b[0;34m:\u001b[0m\u001b[0;34m\u001b[0m\u001b[0;34m\u001b[0m\u001b[0m\n\u001b[1;32m    522\u001b[0m                 \u001b[0m_crs_mismatch_warn\u001b[0m\u001b[0;34m(\u001b[0m\u001b[0mleft\u001b[0m\u001b[0;34m,\u001b[0m \u001b[0mright\u001b[0m\u001b[0;34m,\u001b[0m \u001b[0mstacklevel\u001b[0m\u001b[0;34m=\u001b[0m\u001b[0;36m7\u001b[0m\u001b[0;34m)\u001b[0m\u001b[0;34m\u001b[0m\u001b[0;34m\u001b[0m\u001b[0m\n",
      "\u001b[0;31mValueError\u001b[0m: Lengths of inputs do not match. Left: 0, Right: 1"
     ]
    }
   ],
   "source": [
    "rcount.apply(getdistance, axis=1)"
   ]
  },
  {
   "cell_type": "code",
   "execution_count": null,
   "id": "bd4ba3ee",
   "metadata": {},
   "outputs": [],
   "source": [
    "r = candidatos.loc[candidatos.index == 32735,'geometry'].to_crs(epsg=32722)"
   ]
  },
  {
   "cell_type": "code",
   "execution_count": null,
   "id": "0d0e78be",
   "metadata": {},
   "outputs": [],
   "source": [
    "#r.to_crs(epsg=32722).distance(a.to_crs(epsg=32722))\n",
    "r.distance(a,align=False)"
   ]
  }
 ],
 "metadata": {
  "kernelspec": {
   "display_name": "Python 3 (ipykernel)",
   "language": "python",
   "name": "python3"
  },
  "language_info": {
   "codemirror_mode": {
    "name": "ipython",
    "version": 3
   },
   "file_extension": ".py",
   "mimetype": "text/x-python",
   "name": "python",
   "nbconvert_exporter": "python",
   "pygments_lexer": "ipython3",
   "version": "3.9.7"
  }
 },
 "nbformat": 4,
 "nbformat_minor": 5
}
