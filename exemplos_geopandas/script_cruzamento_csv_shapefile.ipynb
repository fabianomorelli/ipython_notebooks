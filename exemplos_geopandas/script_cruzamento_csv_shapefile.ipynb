{
 "cells": [
  {
   "cell_type": "code",
   "execution_count": null,
   "metadata": {},
   "outputs": [],
   "source": [
    "# Declara a importacao das bibliotecas a serem utilizadas\n",
    "import geopandas as gpd\n",
    "import pandas as pd\n",
    "from shapely.geometry import Point"
   ]
  },
  {
   "cell_type": "code",
   "execution_count": null,
   "metadata": {},
   "outputs": [],
   "source": [
    "# carrega o shapefile que está no mesmo diretorio do programa atual\n",
    "# este arquivo eh o limite politico do brasil\n",
    "\n",
    "brasil = gpd.read_file(\"./brasil_world_countries.shp\")"
   ]
  },
  {
   "cell_type": "code",
   "execution_count": null,
   "metadata": {},
   "outputs": [],
   "source": [
    "# declara uma variavel com o caminho completo para o arquivo de interesse\n",
    "firms_file_csv = \"./fire_nrt_M6_10073.csv\""
   ]
  },
  {
   "cell_type": "code",
   "execution_count": null,
   "metadata": {},
   "outputs": [],
   "source": [
    "# faz a leitura do csv convertendo ele para um DataFrame\n",
    "firms_modis_c6 = pd.read_csv(firms_file_csv)"
   ]
  },
  {
   "cell_type": "code",
   "execution_count": null,
   "metadata": {},
   "outputs": [],
   "source": [
    "# Prepara um novo atributo do tipo geometry utilizando a funcao Point do shapely para depois criar um geopandas\n",
    "# esta variavel row eh soh pra ajudar a entender que ele vai pegar pra cada linha o atributo entre chaves\n",
    "\n",
    "geometry = firms_modis_c6.apply(lambda row: Point(row['longitude'], row['latitude']), axis=1)\n",
    "\n",
    "# cria uma variavel com referencia ao sistema de projecao cartografica\n",
    "crs = {'init': 'epsg:4326'}\n",
    "\n",
    "\n",
    "# cria um geodataframe com o dataframe anteriro\n",
    "# neste caso usando o mesmo nome mais pode ser outro qualquer\n",
    "firms_modis_c6 = gpd.GeoDataFrame(firms_modis_c6, crs=crs, geometry=geometry)\n"
   ]
  },
  {
   "cell_type": "code",
   "execution_count": null,
   "metadata": {},
   "outputs": [],
   "source": [
    "# executa o cruzamento espacial entre os pontos e os poligonos do shapefile\n",
    "firms_modis_c6_brasil = gpd.sjoin(firms_modis_c6, brasil, how='inner', op='within')"
   ]
  },
  {
   "cell_type": "code",
   "execution_count": null,
   "metadata": {},
   "outputs": [],
   "source": [
    "# grava o novo dataFrame em um arquivo csv\n",
    "firms_modis_c6_brasil.to_csv(\"./focos_filtrados_todos_atributos.csv\")"
   ]
  },
  {
   "cell_type": "code",
   "execution_count": null,
   "metadata": {},
   "outputs": [],
   "source": [
    "# remove os atributos indesejados e grava em um csv\n",
    "# note que o nome das colunas indesejadas esta indicado no comando drop\n",
    "colunas_apagar = ['brightness', 'scan', 'track','instrument', 'confidence', 'version',\n",
    "       'bright_t31', 'frp', 'daynight', 'geometry', 'index_right', 'id']\n",
    "\n",
    "firms_modis_c6_brasil.drop(columns=colunas_apagar).to_csv(\"./focos_filtrados_poucos_atributos.csv\")"
   ]
  },
  {
   "cell_type": "code",
   "execution_count": null,
   "metadata": {},
   "outputs": [],
   "source": [
    "# salva o dataframe completo para um arquivo shapefile\n",
    "firms_modis_c6_brasil.to_file(\"./firms_modis_c6_brasil.shp\")"
   ]
  },
  {
   "cell_type": "code",
   "execution_count": null,
   "metadata": {},
   "outputs": [],
   "source": []
  }
 ],
 "metadata": {
  "kernelspec": {
   "display_name": "Python 3",
   "language": "python",
   "name": "python3"
  },
  "language_info": {
   "codemirror_mode": {
    "name": "ipython",
    "version": 3
   },
   "file_extension": ".py",
   "mimetype": "text/x-python",
   "name": "python",
   "nbconvert_exporter": "python",
   "pygments_lexer": "ipython3",
   "version": "3.5.5"
  }
 },
 "nbformat": 4,
 "nbformat_minor": 2
}
