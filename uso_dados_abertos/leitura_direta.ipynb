{
 "cells": [
  {
   "cell_type": "markdown",
   "id": "bdf1cdbf",
   "metadata": {},
   "source": [
    "# Exemplo de notebook python para fazer leitura direta dos arquivos de dados abertos do Programa Queimadas do INPE\n",
    "\n",
    "Este doc foi produzido no dia 15/09/2023 por Fabiano Morelli para registrar um exemplo de como pode ser feito o download e leitura para análise em um Pandas Dataframe dos dados disponibilizados pelo Programa Queimadas do INPE. Os dados originais podem ser encontrados no endereço www.inpe.br/queimadas "
   ]
  },
  {
   "cell_type": "code",
   "execution_count": 41,
   "id": "ea4c2a00",
   "metadata": {},
   "outputs": [],
   "source": [
    "# 1 - importacao de bibliotecas necessárias\n",
    "import pandas as pd\n",
    "import urllib3\n",
    "import requests\n",
    "urllib3.disable_warnings()\n",
    "import sys, os"
   ]
  },
  {
   "cell_type": "code",
   "execution_count": 42,
   "id": "33cad870",
   "metadata": {},
   "outputs": [],
   "source": [
    "# 2 - Definição de endereço de download e nome do arquivo de saída baseado no nome de entrada\n",
    "\n",
    "# url = 'https://dataserver-coids.inpe.br/queimadas/queimadas/focos/csv/mensal/focos_mensal_202309.csv'\n",
    "url = 'https://dataserver-coids.inpe.br/queimadas/queimadas/focos/csv/mensal/Brasil/focos_mensal_br_202309.csv'\n",
    "# url = 'https://dataserver-coids.inpe.br/queimadas/queimadas/focos/csv/diario/Brasil/focos_diario_br_20230914.csv'\n",
    "filename = os.path.basename(url)\n"
   ]
  },
  {
   "cell_type": "code",
   "execution_count": 32,
   "id": "6ea073c1",
   "metadata": {},
   "outputs": [
    {
     "name": "stdout",
     "output_type": "stream",
     "text": [
      "focos_mensal_br_202309.csv\n"
     ]
    }
   ],
   "source": [
    "print(filename)"
   ]
  },
  {
   "cell_type": "code",
   "execution_count": 33,
   "id": "498a0e6f",
   "metadata": {},
   "outputs": [],
   "source": [
    "# 3 - Criação de uma função para download dos arquivos\n",
    "\n",
    "def download_file(url, filename):\n",
    "    ''' Downloads file from the url and save it as filename '''\n",
    "    # check if file already exists\n",
    "    if not os.path.isfile(filename):\n",
    "        print('Downloading File')\n",
    "        response = requests.get(url, verify=False)\n",
    "        # Check if the response is ok (200)\n",
    "        if response.status_code == 200:\n",
    "            # Open file and write the content\n",
    "            with open(filename, 'wb') as file:\n",
    "                # A chunk of 128 bytes\n",
    "                for chunk in response:\n",
    "                    file.write(chunk)\n",
    "        print('Download finished')\n",
    "    else:\n",
    "        print('File exists')\n"
   ]
  },
  {
   "cell_type": "code",
   "execution_count": 34,
   "id": "b1c02720",
   "metadata": {},
   "outputs": [
    {
     "name": "stdout",
     "output_type": "stream",
     "text": [
      "Downloading File\n",
      "Download finished\n"
     ]
    }
   ],
   "source": [
    "# 4 - Executa a funcao e realiza o download\n",
    "\n",
    "download_file(url, filename)"
   ]
  },
  {
   "cell_type": "code",
   "execution_count": 35,
   "id": "07ead886",
   "metadata": {},
   "outputs": [],
   "source": [
    "# 5 - leitura dos dados no Pandas Dataframe\n",
    "df = pd.read_csv(filename, index_col='id', parse_dates=['data_hora_gmt'])"
   ]
  },
  {
   "cell_type": "code",
   "execution_count": 37,
   "id": "df18f2f1",
   "metadata": {},
   "outputs": [
    {
     "name": "stdout",
     "output_type": "stream",
     "text": [
      "<class 'pandas.core.frame.DataFrame'>\n",
      "Index: 494698 entries, 3fc06b30-c10e-3e80-9afc-4997dcf49d0e to 03b0e3fa-f1e7-3820-b9dd-e36e04b4b927\n",
      "Data columns (total 15 columns):\n",
      " #   Column                 Non-Null Count   Dtype         \n",
      "---  ------                 --------------   -----         \n",
      " 0   lat                    494698 non-null  float64       \n",
      " 1   lon                    494698 non-null  float64       \n",
      " 2   data_hora_gmt          494698 non-null  datetime64[ns]\n",
      " 3   satelite               494698 non-null  object        \n",
      " 4   municipio              494698 non-null  object        \n",
      " 5   estado                 494698 non-null  object        \n",
      " 6   pais                   494698 non-null  object        \n",
      " 7   municipio_id           494698 non-null  int64         \n",
      " 8   estado_id              494698 non-null  int64         \n",
      " 9   pais_id                494698 non-null  int64         \n",
      " 10  numero_dias_sem_chuva  0 non-null       float64       \n",
      " 11  precipitacao           0 non-null       float64       \n",
      " 12  risco_fogo             0 non-null       float64       \n",
      " 13  bioma                  494698 non-null  object        \n",
      " 14  frp                    494698 non-null  float64       \n",
      "dtypes: datetime64[ns](1), float64(6), int64(3), object(5)\n",
      "memory usage: 60.4+ MB\n"
     ]
    }
   ],
   "source": [
    "df.info()"
   ]
  },
  {
   "cell_type": "code",
   "execution_count": 38,
   "id": "bdc2a9d0",
   "metadata": {},
   "outputs": [
    {
     "data": {
      "text/plain": [
       "GOES-16      168803\n",
       "NOAA-20      142023\n",
       "NPP-375      106493\n",
       "NPP-375D      40033\n",
       "AQUA_M-T      22219\n",
       "TERRA_M-T      7449\n",
       "TERRA_M-M      5706\n",
       "AQUA_M-M       1972\n",
       "Name: satelite, dtype: int64"
      ]
     },
     "execution_count": 38,
     "metadata": {},
     "output_type": "execute_result"
    }
   ],
   "source": [
    "# Verifica a quantidade de focos por satélite\n",
    "\n",
    "df.satelite.value_counts()"
   ]
  },
  {
   "cell_type": "code",
   "execution_count": 39,
   "id": "b54f29be",
   "metadata": {},
   "outputs": [
    {
     "data": {
      "text/plain": [
       "Brasil    494698\n",
       "Name: pais, dtype: int64"
      ]
     },
     "execution_count": 39,
     "metadata": {},
     "output_type": "execute_result"
    }
   ],
   "source": [
    "# Verifica a quantidade de focos por pais\n",
    "\n",
    "df.pais.value_counts()"
   ]
  },
  {
   "cell_type": "code",
   "execution_count": 40,
   "id": "fe6e7136",
   "metadata": {},
   "outputs": [
    {
     "data": {
      "text/plain": [
       "PARÁ                   108167\n",
       "AMAZONAS                92663\n",
       "MATO GROSSO             59533\n",
       "MARANHÃO                56630\n",
       "RONDÔNIA                37940\n",
       "PIAUÍ                   37315\n",
       "TOCANTINS               30616\n",
       "BAHIA                   18805\n",
       "ACRE                    14770\n",
       "MINAS GERAIS            10341\n",
       "GOIÁS                   10259\n",
       "CEARÁ                    3442\n",
       "SÃO PAULO                2973\n",
       "AMAPÁ                    2639\n",
       "MATO GROSSO DO SUL       2103\n",
       "RORAIMA                  2014\n",
       "PERNAMBUCO               1448\n",
       "RIO DE JANEIRO            756\n",
       "PARAÍBA                   681\n",
       "PARANÁ                    566\n",
       "RIO GRANDE DO NORTE       358\n",
       "ESPÍRITO SANTO            213\n",
       "SANTA CATARINA            150\n",
       "RIO GRANDE DO SUL         125\n",
       "DISTRITO FEDERAL          112\n",
       "ALAGOAS                    51\n",
       "SERGIPE                    28\n",
       "Name: estado, dtype: int64"
      ]
     },
     "execution_count": 40,
     "metadata": {},
     "output_type": "execute_result"
    }
   ],
   "source": [
    "# Verifica a quantidade de focos por estados\n",
    "\n",
    "df.estado.value_counts()"
   ]
  },
  {
   "cell_type": "code",
   "execution_count": null,
   "id": "475cdec4",
   "metadata": {},
   "outputs": [],
   "source": []
  }
 ],
 "metadata": {
  "kernelspec": {
   "display_name": "Python 3 (ipykernel)",
   "language": "python",
   "name": "python3"
  },
  "language_info": {
   "codemirror_mode": {
    "name": "ipython",
    "version": 3
   },
   "file_extension": ".py",
   "mimetype": "text/x-python",
   "name": "python",
   "nbconvert_exporter": "python",
   "pygments_lexer": "ipython3",
   "version": "3.9.16"
  }
 },
 "nbformat": 4,
 "nbformat_minor": 5
}
