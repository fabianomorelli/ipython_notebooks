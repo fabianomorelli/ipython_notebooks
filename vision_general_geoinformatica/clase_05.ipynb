{
 "cells": [
  {
   "cell_type": "markdown",
   "metadata": {},
   "source": [
    "\n",
    "# Uso del Python con librerias del sistema operativo\n",
    "<hr style=\"border:2px solid #0077b9;\">\n",
    "\n",
    "\n",
    "- Fabiano Morelli\n",
    "\n",
    "\n",
    "## Descripción del módulo OS¶\n",
    "\n",
    "El módulo OS es una interfaz que permite interactuar con el sistema operativo ejecutando servicios o operaciones básicas, sin la necesidad de comandos específicos de las diferentes plataformas o tipos de Sistema Operativo y sus muchas versiones.\n",
    "\n",
    "Un ejemplo básico de aplicación es la definición y el cambio del directorio de trabajo, o acciones para crear, cambiar el nombre o borrar directorios.\n"
   ]
  },
  {
   "cell_type": "code",
   "execution_count": null,
   "metadata": {
    "collapsed": true
   },
   "outputs": [],
   "source": [
    "import os"
   ]
  },
  {
   "cell_type": "code",
   "execution_count": null,
   "metadata": {},
   "outputs": [],
   "source": [
    "help(os)"
   ]
  },
  {
   "cell_type": "markdown",
   "metadata": {},
   "source": [
    "## Definición de la carpeta de trabajo - Work Directory\n",
    "\n",
    "La mayoría de los métodos presentados a continuación utilizan la ruta de acceso completa para dirigir un archivo o incluso el directorio. Para facilitar las operaciones, una buena opción es definir el directorio de trabajo como la ubicación donde están los archivos a ser manipulados.\n",
    "\n",
    "Crear un directorio de trabajo temporal para cada instancia del programa que se ejecuta, también es una buena práctica, ya que los archivos temporales se pueden crear independientemente de cuántas instancias estén ejecutando simultáneamente.\n",
    "\n",
    "El método ** getcwd () ** no espera recibir ningún parámetro y devuelve una cadena con la indicación de la ruta completa del directorio de trabajo actualmente activo, según la configuración del sistema operativo actual. Estas definiciones referentes a las Variables de Ambiente_ del _Sistema Operativo_ pueden ser modificadas por medio del módulo ** _ SYS _ ** que no será tratado en estas clases."
   ]
  },
  {
   "cell_type": "code",
   "execution_count": null,
   "metadata": {},
   "outputs": [],
   "source": [
    "os.getcwd()"
   ]
  },
  {
   "cell_type": "markdown",
   "metadata": {},
   "source": [
    "Para cambiar el directorio de trabajo utilizando el método ** chdir ** pasando como parámetro una cadena del nuevo _caminho completo_.\n",
    "\n",
    "## Ejemplo:"
   ]
  },
  {
   "cell_type": "code",
   "execution_count": null,
   "metadata": {},
   "outputs": [],
   "source": [
    "os.chdir(\"/Users/fabianomorelli/ownCloud/notebooks/dados_exemplo/\")\n",
    "# os.chdir(r\"c:\\dados\\\")\n",
    "os.getcwd()\n",
    "# Ejemplo da resposta do comando\n",
    "# '/Users/fabianomorelli/Documents/dados_exemplo'"
   ]
  },
  {
   "cell_type": "markdown",
   "metadata": {},
   "source": [
    "<hr>\n",
    "## Listar el contenido de los directorios\n",
    "\n",
    "La lista del contenido de un directorio se puede obtener mediante el método ** listdir ** que espera una ruta completa y devuelve una lista.\n",
    "\n",
    "## Ejemplos de estos métodos:"
   ]
  },
  {
   "cell_type": "code",
   "execution_count": null,
   "metadata": {
    "scrolled": true
   },
   "outputs": [],
   "source": [
    "os.listdir(\"/Users/fabianomorelli/ownCloud/notebooks/dados_exemplo/\")\n",
    "# os.listdir(os.getcwd())"
   ]
  },
  {
   "cell_type": "markdown",
   "metadata": {},
   "source": [
    "<hr>\n",
    "## Herramientas de \"Camino\" - Módulo ** _ path _ **\n",
    "\n",
    "Cuando estamos depurando el codigo del programa o preparando para que deje de ser un script específico y gane la posibilidad de ser reutilizado en otros ordenadores, necesitamos preocuparnos por los caminos de los archivos y directorios. \n",
    "\n",
    "Para facilitar el desarrollo y dejar el código independiente del Sistema Operativo el módulo ** _ path _ ** posee una gran variedad de métodos para auxiliar en estas actividades.\n",
    "\n",
    "Los problemas de direccionamiento de archivos y directorios ocurren siempre cuando cambiamos entre ventanas y 'Unix'.\n",
    "\n",
    "En el ejemplo unix la dirección del archivo se puede representar a la pala string:\n",
    "'/Users/fabianomorelli/Documents/dados_exemplo/foc_sev_20161010.bin'\n",
    "\n",
    "Esta misma dirección en Windows puede ser representada por la siguiente cadena:\n",
    "'C: \\ fabianomorelli \\ Documentos \\ dados_exemplo \\ foc_sev_20161010.bin'\n",
    "\n",
    "Tenga en cuenta que existe una diferencia en la dirección de la barra separadora de las carpetas además del hecho de que en windows tenemos la representación de la unidad de disco que está siendo utilizada para almacenar el archivo.\n",
    "\n",
    "## Ejemplo de métodos\n",
    "\n",
    "** _ abspath _ ** = Utliza la ruta del directorio de trabajo para crear una cadena con la ruta completa hasta el archivo al que se hace referencia.\n",
    "\n",
    "En el caso de que se produzca un error en el sistema, es posible que se produzca un error en el sistema. Para forzar la formación de la cadena terminada con el separador el último elemento indicado debe ser una cadena vacía.\n",
    "\n",
    "** _ split _ ** = Método que corta la cadena en dos partes. Normalmente la primera parte representada por la ruta con todos los directorios y la segunda parte que representa el nombre del archivo o la última parte de la cadena sin separador.\n",
    "\n",
    "** _ splitext _ ** = Es un método que también separa la cadena en dos partes, siendo la primera parte la ruta de acceso completa y el nombre del archivo, seguido por la extensión del archivo en la segunda parte."
   ]
  },
  {
   "cell_type": "code",
   "execution_count": null,
   "metadata": {
    "collapsed": true
   },
   "outputs": [],
   "source": [
    "# Ejemplo del uso del método abspath\n",
    "# utilizar el nombre de uno de los archivos retonados en el comando anterior,\n",
    "# para crear una variable con la ruta de acceso completa del archivo.\n",
    "\n",
    "file = os.path.abspath('foc_sev_20161010.bin')"
   ]
  },
  {
   "cell_type": "code",
   "execution_count": null,
   "metadata": {},
   "outputs": [],
   "source": [
    "# Comprobación del contenido de la variable creada\n",
    "print(file)"
   ]
  },
  {
   "cell_type": "code",
   "execution_count": null,
   "metadata": {},
   "outputs": [],
   "source": [
    "# Creación de una variable para quitar sólo el nombre del archivo de la variable file\n",
    "# Notar que en este ejemplo se está utilizando el método split de una cadena de texto y no del módulo path\n",
    "nombre = file.\n",
    "print(nombre)"
   ]
  },
  {
   "cell_type": "code",
   "execution_count": null,
   "metadata": {},
   "outputs": [],
   "source": [
    "# Ejemplo del uso del método join\n",
    "# os.path.join ('/ Users / fabianomorelli / Documents', 'datos_example')\n",
    "# note que la salida es una cadena concatenando las partes para formar una ruta válida para el sistema operativo\n",
    "\n",
    "os.path.join(os.getcwd (), 'datos_salida')"
   ]
  },
  {
   "cell_type": "code",
   "execution_count": null,
   "metadata": {},
   "outputs": [],
   "source": [
    "# Ejemplo del uso del método split\n",
    "# os.path.split ('/Users/fabianomorelli/Documents/datos_example/foc_sev_20161010.bin')\n",
    "os.path.split(file)"
   ]
  },
  {
   "cell_type": "code",
   "execution_count": null,
   "metadata": {},
   "outputs": [],
   "source": [
    "# Ejemplo del uso del método dirname\n",
    "# para extraer la ruta de la variable de archivo\n",
    "\n",
    "os.path.dirname(file)"
   ]
  },
  {
   "cell_type": "code",
   "execution_count": null,
   "metadata": {},
   "outputs": [],
   "source": [
    "# Ejemplo de la utilización del método basename\n",
    "# utilizado para extaer el nombre completo del archivo de la variable file\n",
    "\n",
    "os.path.basename(file)"
   ]
  },
  {
   "cell_type": "code",
   "execution_count": null,
   "metadata": {},
   "outputs": [],
   "source": [
    "# Ejemplo del uso del método splitext\n",
    "# utilizado para extraer la extensión del nombre completo del archivo definido en la variable file\n",
    "os.path.splitext (nombre)"
   ]
  },
  {
   "cell_type": "markdown",
   "metadata": {},
   "source": [
    "<hr>\n",
    "\n",
    "## Creación de directorios\n",
    "Para crear un nuevo directorio el módulo ** _ OS _ ** tiene el método ** mkdir ** que funciona independientemente del sistema operativo. Pero si es necesario crear un árbol de directorios completo, se puede utilizar el método ** makedirs **.\n",
    "\n",
    "\n",
    "## Ejemplos de estos métodos:"
   ]
  },
  {
   "cell_type": "code",
   "execution_count": null,
   "metadata": {
    "collapsed": true
   },
   "outputs": [],
   "source": [
    "# Ejemplo de la utilización del método mkdir\n",
    "# utilizado para crear un directorio dentro del espacio de trabajo actual.\n",
    "# Para comprobar el lugar de trabajo utilizar los .getcwd ()\n",
    "\n",
    "os.mkdir(\"prueba\")"
   ]
  },
  {
   "cell_type": "code",
   "execution_count": null,
   "metadata": {
    "collapsed": true
   },
   "outputs": [],
   "source": [
    "# Ejemplo del uso del método makedirs\n",
    "# utilizado para crear una ruta de acceso completa con todos los directorios dentro del espacio de trabajo actual.\n",
    "\n",
    "os.makedirs(\"novos_dados/tmp/csv\")"
   ]
  },
  {
   "cell_type": "markdown",
   "metadata": {},
   "source": [
    "<Hr>\n",
    "## Extracción de directorios\n",
    "\n",
    "Hay dos métodos similares para borrar ** rmdir ** y ** removeders **, se pueden utilizar para borrar un único directorio y el segundo para todo el árbol.\n",
    "\n",
    "\n",
    "## Ejemplos de estos métodos:"
   ]
  },
  {
   "cell_type": "code",
   "execution_count": null,
   "metadata": {
    "collapsed": true
   },
   "outputs": [],
   "source": [
    "# Ejemplo del uso del método removeders\n",
    "# utilizado para borrar una ruta completa con todos los directorios dentro del espacio de trabajo actual.\n",
    "\n",
    "\n",
    "os.removedirs ( \"novos_dados / tmp / csv\")\n",
    "# Recordar que si el directorio no está vacío, el comando no se ejecutará con éxito."
   ]
  },
  {
   "cell_type": "code",
   "execution_count": null,
   "metadata": {},
   "outputs": [],
   "source": [
    "os.listdir(os.getcwd())"
   ]
  },
  {
   "cell_type": "code",
   "execution_count": null,
   "metadata": {},
   "outputs": [],
   "source": [
    "os.rmdir(\"teste\")"
   ]
  },
  {
   "cell_type": "code",
   "execution_count": null,
   "metadata": {},
   "outputs": [],
   "source": [
    "os.listdir(os.getcwd())"
   ]
  },
  {
   "cell_type": "markdown",
   "metadata": {},
   "source": [
    "<hr>\n",
    "\n",
    "# Descripción del módulo GLOB\n",
    "\n",
    "El módulo GLOB ayuda a encontrar los archivos dentro de un directorio mediante filtros con caracteres comodín que se pueden utilizar para filtrar la lista que se va a generar. El método ** _ glob _ ** recibe la ruta de acceso completa y el conjunto de caracteres que se utilizará en el filtro.\n",
    "\n",
    "En el caso de que se produzca un error en el sistema, se debe utilizar el filtro entre asteriscos (ej: \"* modis *\") para filtrar todos los archivos con la palabra modis, el métido es sensible a la tipografía, es decir, hace una diferencia entre mayúsculas y minúsculas."
   ]
  },
  {
   "cell_type": "code",
   "execution_count": null,
   "metadata": {
    "collapsed": true
   },
   "outputs": [],
   "source": [
    "import glob"
   ]
  },
  {
   "cell_type": "code",
   "execution_count": null,
   "metadata": {
    "collapsed": true
   },
   "outputs": [],
   "source": [
    "lst = glob.glob(\"*d?\")"
   ]
  },
  {
   "cell_type": "code",
   "execution_count": null,
   "metadata": {},
   "outputs": [],
   "source": [
    "lst.sort()\n",
    "print lst"
   ]
  },
  {
   "cell_type": "markdown",
   "metadata": {},
   "source": [
    "<hr>\n",
    "# Ejercicios\n",
    "\n",
    "\n",
    "## Ejercicio 1 - Crear una lista con el nombre de los archivos del directorio datos_example que fue creado con la extracción del archivo comprimido con el mismo nombre, e imprimir cada nombre de los archivos con extensión .bin"
   ]
  },
  {
   "cell_type": "code",
   "execution_count": null,
   "metadata": {
    "collapsed": true
   },
   "outputs": [],
   "source": [
    "# Complete aquí su código"
   ]
  },
  {
   "cell_type": "markdown",
   "metadata": {},
   "source": [
    "<Hr>\n",
    "## Ejercicio 2 - Crear una copia del archivo modelo.hdr para cada archivo foc_sev\\*bin, de tal manera que en el directorio de los datos exista un par de archivos para cada fecha, por ejemplo:\n",
    "[ 'Foc_sev_20161010.bin' 'foc_sev_20161010.hdr']"
   ]
  },
  {
   "cell_type": "code",
   "execution_count": null,
   "metadata": {
    "collapsed": true
   },
   "outputs": [],
   "source": [
    "# Complete aquí su código"
   ]
  },
  {
   "cell_type": "markdown",
   "metadata": {},
   "source": [
    "<Hr>\n",
    "## Ejercicio 3 - Desarrolle un fragmento de código para imprimir la siguiente cadena:\n",
    "** 'El archivo foc_sev_20161010.bin es del día juliano 284 del año 2016' **\n",
    "\n",
    "## siendo que el nombre del archivo, el día juliano y el año se deben extraer de cada archivo del directorio de trabajo de los archivos de ejemplo."
   ]
  },
  {
   "cell_type": "code",
   "execution_count": null,
   "metadata": {
    "collapsed": true
   },
   "outputs": [],
   "source": []
  }
 ],
 "metadata": {
  "kernelspec": {
   "display_name": "Python 2",
   "language": "python",
   "name": "python2"
  },
  "language_info": {
   "codemirror_mode": {
    "name": "ipython",
    "version": 2
   },
   "file_extension": ".py",
   "mimetype": "text/x-python",
   "name": "python",
   "nbconvert_exporter": "python",
   "pygments_lexer": "ipython2",
   "version": "2.7.14"
  },
  "varInspector": {
   "cols": {
    "lenName": 16,
    "lenType": 16,
    "lenVar": 40
   },
   "kernels_config": {
    "python": {
     "delete_cmd_postfix": "",
     "delete_cmd_prefix": "del ",
     "library": "var_list.py",
     "varRefreshCmd": "print(var_dic_list())"
    },
    "r": {
     "delete_cmd_postfix": ") ",
     "delete_cmd_prefix": "rm(",
     "library": "var_list.r",
     "varRefreshCmd": "cat(var_dic_list()) "
    }
   },
   "types_to_exclude": [
    "module",
    "function",
    "builtin_function_or_method",
    "instance",
    "_Feature"
   ],
   "window_display": false
  }
 },
 "nbformat": 4,
 "nbformat_minor": 2
}
