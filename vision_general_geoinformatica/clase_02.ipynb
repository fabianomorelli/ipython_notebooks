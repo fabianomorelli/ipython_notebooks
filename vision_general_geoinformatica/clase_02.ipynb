{
 "cells": [
  {
   "cell_type": "markdown",
   "metadata": {},
   "source": [
    "<h1> Visión General de Geoinformática </h1>\n",
    "## Utilización del Python en investigaciones de Geografía\n",
    "\n",
    "### Fabiano Morelli - fabiano.morelli@inpe.br\n",
    "### Diciembre/2018"
   ]
  },
  {
   "cell_type": "markdown",
   "metadata": {},
   "source": [
    "# Control de flujo\n",
    "\n",
    "## El bucle While\n",
    "El bucle while se ejecuta mientras una condición sea verdadera. \n",
    "\n",
    "En Python, como en C, cualquier entero distinto de cero es verdadero; **cero es falso**. \n",
    "\n",
    "La condición también puede ser una cadena de texto o una lista, de hecho cualquier secuencia; cualquier cosa con longitud distinta de cero es verdadero, las secuencias vacías son falsas. \n",
    "\n",
    "La prueba usada es una comparación simple, los operadores estándar de comparación són: \n",
    " - < (menor qué), \n",
    " - \\> (mayor qué), \n",
    " - == (igual a), \n",
    " - <= (menor o igual qué), \n",
    " - \\>= (mayor o igual qué) y \n",
    " - != (distinto a)."
   ]
  },
  {
   "cell_type": "code",
   "execution_count": null,
   "metadata": {
    "collapsed": true
   },
   "outputs": [],
   "source": [
    "numero = 0"
   ]
  },
  {
   "cell_type": "code",
   "execution_count": null,
   "metadata": {},
   "outputs": [],
   "source": [
    "while numero < 10:\n",
    "    print(numero)\n",
    "    numero = numero + 1"
   ]
  },
  {
   "cell_type": "markdown",
   "metadata": {},
   "source": [
    "La función print() escribe el valor de el o los argumentos que se le pasan. \n",
    "\n",
    "Difiere de simplemente escribir la expresión que se quiere mostrar (como hicimos antes) en la forma en que maneja múltiples argumentos, cantidades en punto flotante, y cadenas.\n",
    "\n",
    "Las cadenas de texto son impresas sin comillas, así podés formatear cosas de una forma agradable, otras informaciones buscar en https://pyformat.info"
   ]
  },
  {
   "cell_type": "code",
   "execution_count": null,
   "metadata": {},
   "outputs": [],
   "source": [
    "numero = 0\n",
    "while numero < 10:\n",
    "    print(\"El valor de la variable es.: %s\" %numero)\n",
    "    numero = numero + 1"
   ]
  },
  {
   "cell_type": "markdown",
   "metadata": {},
   "source": [
    "<hr>\n",
    "## El bucle for\n",
    "La sentencia **for** de Python itera sobre los ítems de cualquier secuencia (una lista o una cadena de texto), en el orden que aparecen en la secuencia."
   ]
  },
  {
   "cell_type": "code",
   "execution_count": null,
   "metadata": {
    "collapsed": true
   },
   "outputs": [],
   "source": [
    "# Ejemplo de una Tupla\n",
    "DiasSemana = (\"LUNES\", \"MARTES\", \"MIERCOLES\", \"JUEVES\", \"VIERNES\", \"SABADO\", \"DOMINGO\")"
   ]
  },
  {
   "cell_type": "code",
   "execution_count": null,
   "metadata": {},
   "outputs": [],
   "source": [
    "for dia in DiasSemana:\n",
    "    print(dia)"
   ]
  },
  {
   "cell_type": "code",
   "execution_count": null,
   "metadata": {},
   "outputs": [],
   "source": [
    "# Si se necesita iterar sobre una secuencia de números, \n",
    "# es apropiado utilizar la función integrada range(), la cual genera progresiones aritméticas\n",
    "range(9)"
   ]
  },
  {
   "cell_type": "code",
   "execution_count": null,
   "metadata": {},
   "outputs": [],
   "source": [
    "help(range)"
   ]
  },
  {
   "cell_type": "code",
   "execution_count": null,
   "metadata": {},
   "outputs": [],
   "source": [
    "# Ejemplo de un buble for junto con range\n",
    "for num in range(9):\n",
    "    print(\"El valor de la variable num es .: {}\".format(num))"
   ]
  },
  {
   "cell_type": "markdown",
   "metadata": {},
   "source": [
    "<hr>\n",
    "## El bucle if\n",
    "Representa un controle que ejecuta algunas operaciones mientras una condición sea verdadera."
   ]
  },
  {
   "cell_type": "code",
   "execution_count": null,
   "metadata": {
    "collapsed": true
   },
   "outputs": [],
   "source": [
    "num = 9\n",
    "if num <= 3:\n",
    "    print(\"El valor es bajo porque esta menor o igual a 3\")\n"
   ]
  },
  {
   "cell_type": "code",
   "execution_count": null,
   "metadata": {},
   "outputs": [],
   "source": [
    "if num <= 3:\n",
    "    print(\"El valor es menor o igual a 3\")\n",
    "else:\n",
    "    print(\"El valor major a 3\")"
   ]
  },
  {
   "cell_type": "code",
   "execution_count": null,
   "metadata": {},
   "outputs": [],
   "source": [
    "if num <= 3:\n",
    "    print(\"El valor es menor o igual a 3\")\n",
    "elif (num >= 4) & (num <= 6):\n",
    "    print(\"El valor esta entre 4 y 6\")\n",
    "else:\n",
    "    print(\"Major a 6\")"
   ]
  },
  {
   "cell_type": "markdown",
   "metadata": {},
   "source": [
    "# Ejercicio\n",
    "1) Utilizar el bucle for y el control if para printar apenas los dias de la semana y la clasificación se es trabajo o descancio."
   ]
  },
  {
   "cell_type": "code",
   "execution_count": null,
   "metadata": {},
   "outputs": [],
   "source": [
    "for dia in DiasSemana:\n",
    "    print(dia, \"trabajo|descancio\")"
   ]
  },
  {
   "cell_type": "markdown",
   "metadata": {
    "collapsed": true
   },
   "source": [
    "<hr>\n",
    "2) utilizar el FOR para identificar cual la letra tiene mayor cantidad en la cadena \"Universidad Nacional Autónoma de México\"\n",
    "\n",
    " - tenemos que definir si las mayúscula y las minusculas tienen lo mismo valor;\n",
    " - crear un flujo para realizar el procesamiento;\n",
    " - hacer pruebas con los comandos;\n",
    " "
   ]
  },
  {
   "cell_type": "code",
   "execution_count": null,
   "metadata": {
    "collapsed": true
   },
   "outputs": [],
   "source": [
    "cadena = \"Universidad Nacional Autonoma de Mexico\""
   ]
  },
  {
   "cell_type": "code",
   "execution_count": null,
   "metadata": {
    "collapsed": true
   },
   "outputs": [],
   "source": []
  },
  {
   "cell_type": "markdown",
   "metadata": {},
   "source": [
    "<hr>\n",
    "3) Crear una lista con nombres de los archivos mensuales de NDVI para todo el año de 2017.\n",
    "ficheros = [\"ndvi_2017_enero.tif\", ...]\n",
    "\n",
    "- Utilizar una lista o tupla con los nombres de los meses"
   ]
  },
  {
   "cell_type": "code",
   "execution_count": null,
   "metadata": {
    "collapsed": true
   },
   "outputs": [],
   "source": []
  },
  {
   "cell_type": "markdown",
   "metadata": {},
   "source": [
    "<hr>\n",
    "4) A partir de una listagen de fechas escribir al lado el nombre del mes"
   ]
  },
  {
   "cell_type": "code",
   "execution_count": null,
   "metadata": {
    "collapsed": true
   },
   "outputs": [],
   "source": [
    "fechas = [20180121,20170213,20160323,20150606,20150807,20001001]"
   ]
  },
  {
   "cell_type": "code",
   "execution_count": null,
   "metadata": {
    "collapsed": true
   },
   "outputs": [],
   "source": []
  },
  {
   "cell_type": "markdown",
   "metadata": {},
   "source": [
    "<hr>\n",
    "5) A partir de la lista de fechas del ejercicio anteiro dicir qual es el último dia del mês"
   ]
  },
  {
   "cell_type": "code",
   "execution_count": null,
   "metadata": {
    "collapsed": true
   },
   "outputs": [],
   "source": []
  },
  {
   "cell_type": "markdown",
   "metadata": {},
   "source": [
    "<hr>\n",
    "6) A partir de las listas abajos crear una lista con los archivos que estan disponibles y no fueran procesados aún."
   ]
  },
  {
   "cell_type": "code",
   "execution_count": null,
   "metadata": {
    "collapsed": true
   },
   "outputs": [],
   "source": [
    "ficheros_disponibles = ['g16_20181101.tif', 'g16_20181102.tif', 'g16_20181103.tif', 'g16_20181104.tif', 'g16_20181105.tif', 'g16_20181106.tif', 'g16_20181107.tif', 'g16_20181108.tif', 'g16_20181109.tif', 'g16_20181110.tif', 'g16_20181111.tif', 'g16_20181112.tif', 'g16_20181113.tif', 'g16_20181114.tif', 'g16_20181115.tif', 'g16_20181116.tif', 'g16_20181117.tif', 'g16_20181118.tif', 'g16_20181119.tif', 'g16_20181120.tif', 'g16_20181121.tif', 'g16_20181122.tif', 'g16_20181123.tif', 'g16_20181124.tif', 'g16_20181125.tif', 'g16_20181126.tif', 'g16_20181127.tif', 'g16_20181128.tif', 'g16_20181129.tif', 'g16_20181130.tif', 'g16_20181131.tif']"
   ]
  },
  {
   "cell_type": "code",
   "execution_count": null,
   "metadata": {
    "collapsed": true
   },
   "outputs": [],
   "source": [
    "ficheros_procesados = ['g16_20181101.tif', 'g16_20181102.tif', 'g16_20181105.tif', 'g16_20181106.tif', 'g16_20181107.tif','g16_20181127.tif', 'g16_20181128.tif', 'g16_20181129.tif', 'g16_20181130.tif', 'g16_20181131.tif']"
   ]
  },
  {
   "cell_type": "code",
   "execution_count": null,
   "metadata": {
    "collapsed": true
   },
   "outputs": [],
   "source": []
  },
  {
   "cell_type": "markdown",
   "metadata": {},
   "source": [
    "<hr>\n",
    "7) Printar en la pantaja la sequencia de dias desde 20181101 asta 20181130\n",
    "- utilizar la sugerencia de página de formatación https://pyformat.info para garantizar os numeros con 2 digitos\n",
    "- utilizar el buble While"
   ]
  },
  {
   "cell_type": "code",
   "execution_count": null,
   "metadata": {
    "collapsed": true
   },
   "outputs": [],
   "source": []
  }
 ],
 "metadata": {
  "hide_input": false,
  "kernelspec": {
   "display_name": "Python 2",
   "language": "python",
   "name": "python2"
  },
  "language_info": {
   "codemirror_mode": {
    "name": "ipython",
    "version": 2
   },
   "file_extension": ".py",
   "mimetype": "text/x-python",
   "name": "python",
   "nbconvert_exporter": "python",
   "pygments_lexer": "ipython2",
   "version": "2.7.14"
  },
  "varInspector": {
   "cols": {
    "lenName": 16,
    "lenType": 16,
    "lenVar": 40
   },
   "kernels_config": {
    "python": {
     "delete_cmd_postfix": "",
     "delete_cmd_prefix": "del ",
     "library": "var_list.py",
     "varRefreshCmd": "print(var_dic_list())"
    },
    "r": {
     "delete_cmd_postfix": ") ",
     "delete_cmd_prefix": "rm(",
     "library": "var_list.r",
     "varRefreshCmd": "cat(var_dic_list()) "
    }
   },
   "types_to_exclude": [
    "module",
    "function",
    "builtin_function_or_method",
    "instance",
    "_Feature"
   ],
   "window_display": false
  }
 },
 "nbformat": 4,
 "nbformat_minor": 2
}
